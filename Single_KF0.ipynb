{
 "cells": [
  {
   "cell_type": "markdown",
   "metadata": {},
   "source": [
    "### Forecasting using LSTM from Keras\n",
    "\n",
    "Steps: \n",
    "1. Transform the dataset to make it suitable for the LSTM model, including:\n",
    "    - Transforming the data to a supervised learning problem.\n",
    "    - Transforming the data to be stationary.\n",
    "    - Transforming the data so that it has the scale -1 to 1.\n",
    "2. Fitting a stateful LSTM network model to the training data.\n",
    "3. Evaluating the static LSTM model on the test data.\n",
    "4. Report the performance of the forecasts."
   ]
  },
  {
   "cell_type": "code",
   "execution_count": 1,
   "metadata": {},
   "outputs": [],
   "source": [
    "import pandas as pd\n",
    "from pandas import DataFrame, Series\n",
    "from pandas import concat\n",
    "import numpy as np\n",
    "from LSTM_cc import *"
   ]
  },
  {
   "cell_type": "code",
   "execution_count": 3,
   "metadata": {},
   "outputs": [],
   "source": [
    "cg = pd.read_csv('climate_change2013.csv',index_col='Date',parse_dates = True)\n",
    "cg.index.freq='MS'"
   ]
  },
  {
   "cell_type": "code",
   "execution_count": 4,
   "metadata": {},
   "outputs": [],
   "source": [
    "#SURFACE TEMPERATURE\n",
    "surf_t = cg['surface_temp']\n",
    "surf_t = surf_t.to_frame()\n",
    "\n",
    "#CO2\n",
    "co2 = cg['surface_temp']\n",
    "co2 = co2.to_frame()\n",
    "\n",
    "rain_days = cg['no_of_rainy_days']\n",
    "rain_days = rain_days.to_frame()\n",
    "\n",
    "rainfall = cg['total_rainfall']\n",
    "rainfall = rainfall.to_frame()\n",
    "\n",
    "humidity = cg['relative_humidity']\n",
    "humidity = humidity.to_frame()\n",
    "\n",
    "gmsl = cg['GMSL(Global Mean Sea Level)']\n",
    "gmsl = gmsl.to_frame()\n",
    "\n",
    "land_ocean_temp = cg['Anomalies_Land_Ocean_Temperature']\n",
    "land_ocean_temp = land_ocean_temp.to_frame()"
   ]
  },
  {
   "cell_type": "markdown",
   "metadata": {},
   "source": [
    "#### 1) Transform Time Series to Supervised Learning\n",
    "\n",
    "The LSTM model in Keras assumes that the data is divided into input (X) and output (y) components so i'll use the observation from the last time step (t-1) as the input and the observation at the current time step (t) as the output.\n",
    "\n",
    "To do so i'll use the shift() function in Pandas that will push all values in a series down by a specified number places, in this case 1 place that will become the input variables. The time series as it stands will be the output variables.\n",
    "\n",
    "Then I concatenate these two series together to create a DataFrame ready for supervised learning. The pushed-down series will have a new position at the top with no value. A NaN value will be used in this position. These NaN values will replace with 0 values, which the LSTM model will have to learn as “the start of the series” or “I have no data here,” as a month with zero observation."
   ]
  },
  {
   "cell_type": "markdown",
   "metadata": {},
   "source": [
    "### 2) Transform Time Series to Stationary\n",
    "\n",
    "A dataset non stationary implies the presence of a structure in the data that is dependent on the time, so there is an increasing trend in the data. I need to make this data stationary because it's easy to model.\n",
    "\n",
    "The trend can be removed from the observations, then added back to forecasts later to return the prediction to the original scale and calculate a comparable error score.\n",
    "\n",
    "A standard way to remove a trend is by differencing the data (like i already did for the VARMA model)\n"
   ]
  },
  {
   "cell_type": "code",
   "execution_count": 5,
   "metadata": {},
   "outputs": [],
   "source": [
    "# transform data to be stationary\n",
    "raw_values = surf_t.values\n",
    "diff_values = difference(raw_values, 1)\n",
    " \n",
    "# transform data to be supervised learning\n",
    "supervised = timeseries_to_supervised(diff_values, 1)\n",
    "supervised_values = supervised.values\n",
    " \n",
    "# split data into train and test-sets\n",
    "train, test = supervised_values[0:-12], supervised_values[-12:] #the last 12 months (1 year) will be used for the test set\n",
    " \n",
    "# transform the scale of the data\n",
    "scaler, train_scaled, test_scaled = scale(train, test)"
   ]
  },
  {
   "cell_type": "markdown",
   "metadata": {},
   "source": [
    "In order to develop a robust result, i fix a number seed used by Keras to ensure the results are reproducible. So i can repeat the experiment from the previous section multiple times, then take the average RMSE as an indication of how well the configuration would be expected to perform on unseen data on average.\n",
    "\n",
    "To do it i wrap the model fitting and walk-forward validation in a loop of fixed number of repeats (10). Each iteration the RMSE of the run can be recorded and use to summarize the distribution of RMSE scores."
   ]
  },
  {
   "cell_type": "code",
   "execution_count": 14,
   "metadata": {},
   "outputs": [
    {
     "name": "stdout",
     "output_type": "stream",
     "text": [
      "            rmse\n",
      "count  10.000000\n",
      "mean    0.760703\n",
      "std     0.168217\n",
      "min     0.684100\n",
      "25%     0.691994\n",
      "50%     0.705623\n",
      "75%     0.723724\n",
      "max     1.234435\n"
     ]
    },
    {
     "data": {
      "image/png": "[encoded data removed]",
      "text/plain": [
       "<Figure size 432x288 with 1 Axes>"
      ]
     },
     "metadata": {
      "needs_background": "light"
     },
     "output_type": "display_data"
    }
   ],
   "source": [
    "# summarize results\n",
    "results = DataFrame()\n",
    "results['rmse'] = robust_lstm(train_scaled,test_scaled,scaler,raw_values)[0]\n",
    "print(results.describe())\n",
    "results.boxplot()\n",
    "plt.show()"
   ]
  },
  {
   "cell_type": "code",
   "execution_count": 15,
   "metadata": {},
   "outputs": [
    {
     "data": {
      "image/png": "[encoded data removed]",
      "text/plain": [
       "<Figure size 432x288 with 1 Axes>"
      ]
     },
     "metadata": {
      "needs_background": "light"
     },
     "output_type": "display_data"
    }
   ],
   "source": [
    "# line plot of observed vs predicted\n",
    "pred = robust_lstm(train_scaled,test_scaled,scaler,raw_values)[1]\n",
    "plt.plot(raw_values[-12:])\n",
    "plt.plot(pred)\n",
    "plt.show()"
   ]
  }
 ],
 "metadata": {
  "interpreter": {
   "hash": "543fac186253f9d0e7e81c5965b3cf911efa35f741fdc96a6bcdad4c4ce990e7"
  },
  "kernelspec": {
   "display_name": "Python 3.9.1 64-bit",
   "language": "python",
   "name": "python3"
  },
  "language_info": {
   "codemirror_mode": {
    "name": "ipython",
    "version": 3
   },
   "file_extension": ".py",
   "mimetype": "text/x-python",
   "name": "python",
   "nbconvert_exporter": "python",
   "pygments_lexer": "ipython3",
   "version": "3.9.1"
  },
  "orig_nbformat": 4
 },
 "nbformat": 4,
 "nbformat_minor": 2
}

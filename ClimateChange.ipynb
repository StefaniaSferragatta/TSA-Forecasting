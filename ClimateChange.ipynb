{
 "cells": [
  {
   "cell_type": "code",
   "execution_count": 92,
   "metadata": {},
   "outputs": [],
   "source": [
    "# utilities\n",
    "import pandas as pd \n",
    "import numpy as np\n",
    "from datetime import datetime as dt\n",
    "\n",
    "# plots\n",
    "import matplotlib.pyplot as plt\n",
    "from matplotlib.pyplot import cm\n",
    "import seaborn as sns\n",
    "\n",
    "# autocorrelation\n",
    "from statsmodels.graphics.tsaplots import plot_acf, plot_pacf\n",
    "\n",
    "#model"
   ]
  },
  {
   "cell_type": "markdown",
   "metadata": {},
   "source": [
    "Importing datasets"
   ]
  },
  {
   "cell_type": "code",
   "execution_count": 65,
   "metadata": {},
   "outputs": [],
   "source": [
    "co2 = pd.read_csv('co2-avg_montly.csv')\n",
    "co2_cols = ['Decimal Date','Trend']\n",
    "co2 = co2.drop(co2_cols,axis=1)\n",
    "\n",
    "no_raindays = pd.read_csv('rainfall-monthly-number-of-rain-days.csv')\n",
    "no_raindays.rename(columns={'month':'Date'},inplace=True)\n",
    "\n",
    "sea_level = pd.read_csv('avg_sea_level.csv')\n",
    "sea_cols = ['Uncertanty']\n",
    "sea_level = sea_level.drop(sea_cols,axis=1)\n",
    "sea_level.rename(columns = {'Time':'Date'},inplace=True)\n",
    "\n",
    "humidity = pd.read_csv('relative-humidity-monthly-mean.csv')\n",
    "humidity.rename(columns = {'month':'Date'},inplace=True)\n",
    "\n",
    "rainfall = pd.read_csv('rainfall-monthly-total.csv')\n",
    "rainfall.rename(columns = {'month':'Date'},inplace=True)\n",
    "\n",
    "temperature = pd.read_csv('surface-air-temperature-monthly-mean.csv')\n",
    "temperature.rename(columns = {'month':'Date'},inplace=True)\n",
    "\n",
    "anomaly_temperature = pd.read_csv('anomalies_temp.csv')\n",
    "anomaly_temperature.drop(anomaly_temperature[anomaly_temperature['Source'] == 'GCAG'].index, inplace = True)\n",
    "anomaly_cols = ['Source']\n",
    "anomaly_temperature = anomaly_temperature.drop(anomaly_cols,axis=1)"
   ]
  },
  {
   "cell_type": "markdown",
   "metadata": {},
   "source": [
    "Change datatype of the column with the date into the dame datetime format 'YYYY-mm'"
   ]
  },
  {
   "cell_type": "code",
   "execution_count": 68,
   "metadata": {},
   "outputs": [],
   "source": [
    "co2['Date'] = pd.to_datetime(co2['Date'], format = '%Y-%m')\n",
    "co2['Date'] = co2['Date'].dt.strftime('%Y-%m')\n",
    "\n",
    "sea_level['Date'] = pd.to_datetime(sea_level['Date'], format = '%Y-%m')\n",
    "sea_level['Date'] = sea_level['Date'].dt.strftime('%Y-%m')\n",
    "\n",
    "humidity['Date'] = pd.to_datetime(humidity['Date'], format = '%Y-%m')\n",
    "humidity['Date'] = humidity['Date'].dt.strftime('%Y-%m')\n",
    "\n",
    "rainfall['Date'] = pd.to_datetime(humidity['Date'], format = '%Y-%m')\n",
    "rainfall['Date'] = rainfall['Date'].dt.strftime('%Y-%m')\n",
    "\n",
    "temperature['Date'] = pd.to_datetime(temperature['Date'], format = '%Y-%m')\n",
    "temperature['Date'] = temperature['Date'].dt.strftime('%Y-%m')\n",
    "\n",
    "anomaly_temperature['Date'] = pd.to_datetime(anomaly_temperature['Date'], format = '%Y-%m')\n",
    "anomaly_temperature['Date'] = anomaly_temperature['Date'].dt.strftime('%Y-%m')\n"
   ]
  },
  {
   "cell_type": "markdown",
   "metadata": {},
   "source": [
    "Now that the dataframes are modified and the cols have the same name and format, i can merge them on the Date and build a unique dataframe"
   ]
  },
  {
   "cell_type": "code",
   "execution_count": 70,
   "metadata": {},
   "outputs": [],
   "source": [
    "climate_change = co2.merge(no_raindays,on='Date').merge(sea_level,on='Date').merge(humidity,on='Date').merge(rainfall,on='Date').merge(temperature,on='Date').merge(anomaly_temperature,on='Date')"
   ]
  },
  {
   "cell_type": "code",
   "execution_count": 72,
   "metadata": {},
   "outputs": [
    {
     "data": {
      "text/html": [
       "<div>\n",
       "<style scoped>\n",
       "    .dataframe tbody tr th:only-of-type {\n",
       "        vertical-align: middle;\n",
       "    }\n",
       "\n",
       "    .dataframe tbody tr th {\n",
       "        vertical-align: top;\n",
       "    }\n",
       "\n",
       "    .dataframe thead th {\n",
       "        text-align: right;\n",
       "    }\n",
       "</style>\n",
       "<table border=\"1\" class=\"dataframe\">\n",
       "  <thead>\n",
       "    <tr style=\"text-align: right;\">\n",
       "      <th></th>\n",
       "      <th>Date</th>\n",
       "      <th>co2</th>\n",
       "      <th>no_of_rainy_days</th>\n",
       "      <th>GMSL(Global Mean Sea Level)</th>\n",
       "      <th>relative_humidity</th>\n",
       "      <th>total_rainfall</th>\n",
       "      <th>surface_temp</th>\n",
       "      <th>Anomalies_Land_Ocean_Temperature</th>\n",
       "    </tr>\n",
       "  </thead>\n",
       "  <tbody>\n",
       "    <tr>\n",
       "      <th>0</th>\n",
       "      <td>1982-01</td>\n",
       "      <td>341.27</td>\n",
       "      <td>10</td>\n",
       "      <td>-8.2</td>\n",
       "      <td>81.2</td>\n",
       "      <td>107.1</td>\n",
       "      <td>25.9</td>\n",
       "      <td>0.09</td>\n",
       "    </tr>\n",
       "    <tr>\n",
       "      <th>1</th>\n",
       "      <td>1982-02</td>\n",
       "      <td>341.86</td>\n",
       "      <td>5</td>\n",
       "      <td>-9.3</td>\n",
       "      <td>79.5</td>\n",
       "      <td>27.8</td>\n",
       "      <td>27.1</td>\n",
       "      <td>0.14</td>\n",
       "    </tr>\n",
       "    <tr>\n",
       "      <th>2</th>\n",
       "      <td>1982-03</td>\n",
       "      <td>342.14</td>\n",
       "      <td>11</td>\n",
       "      <td>-10.6</td>\n",
       "      <td>82.3</td>\n",
       "      <td>160.8</td>\n",
       "      <td>27.2</td>\n",
       "      <td>-0.01</td>\n",
       "    </tr>\n",
       "    <tr>\n",
       "      <th>3</th>\n",
       "      <td>1982-04</td>\n",
       "      <td>342.42</td>\n",
       "      <td>14</td>\n",
       "      <td>-13.1</td>\n",
       "      <td>85.9</td>\n",
       "      <td>157.0</td>\n",
       "      <td>27.0</td>\n",
       "      <td>0.10</td>\n",
       "    </tr>\n",
       "    <tr>\n",
       "      <th>4</th>\n",
       "      <td>1982-05</td>\n",
       "      <td>342.27</td>\n",
       "      <td>10</td>\n",
       "      <td>-13.5</td>\n",
       "      <td>83.2</td>\n",
       "      <td>102.2</td>\n",
       "      <td>28.0</td>\n",
       "      <td>0.16</td>\n",
       "    </tr>\n",
       "  </tbody>\n",
       "</table>\n",
       "</div>"
      ],
      "text/plain": [
       "      Date     co2  no_of_rainy_days  GMSL(Global Mean Sea Level)  \\\n",
       "0  1982-01  341.27                10                         -8.2   \n",
       "1  1982-02  341.86                 5                         -9.3   \n",
       "2  1982-03  342.14                11                        -10.6   \n",
       "3  1982-04  342.42                14                        -13.1   \n",
       "4  1982-05  342.27                10                        -13.5   \n",
       "\n",
       "   relative_humidity  total_rainfall  surface_temp  \\\n",
       "0               81.2           107.1          25.9   \n",
       "1               79.5            27.8          27.1   \n",
       "2               82.3           160.8          27.2   \n",
       "3               85.9           157.0          27.0   \n",
       "4               83.2           102.2          28.0   \n",
       "\n",
       "   Anomalies_Land_Ocean_Temperature  \n",
       "0                              0.09  \n",
       "1                              0.14  \n",
       "2                             -0.01  \n",
       "3                              0.10  \n",
       "4                              0.16  "
      ]
     },
     "execution_count": 72,
     "metadata": {},
     "output_type": "execute_result"
    }
   ],
   "source": [
    "climate_change.head()"
   ]
  },
  {
   "cell_type": "code",
   "execution_count": 75,
   "metadata": {},
   "outputs": [],
   "source": [
    "# change the column values from percentage to decimal \n",
    "climate_change['relative_humidity'] = climate_change['relative_humidity'].apply(lambda x: x / 100)"
   ]
  },
  {
   "cell_type": "code",
   "execution_count": null,
   "metadata": {},
   "outputs": [],
   "source": [
    "# add values until 2020?\n"
   ]
  },
  {
   "cell_type": "code",
   "execution_count": 79,
   "metadata": {},
   "outputs": [],
   "source": [
    "#save the dataframe to csv\n",
    "climate_change.to_csv('climate_change.csv',index=False)"
   ]
  },
  {
   "cell_type": "markdown",
   "metadata": {},
   "source": [
    "DATA VISUALIZATION"
   ]
  },
  {
   "cell_type": "code",
   "execution_count": 86,
   "metadata": {},
   "outputs": [
    {
     "data": {
      "text/html": [
       "<div>\n",
       "<style scoped>\n",
       "    .dataframe tbody tr th:only-of-type {\n",
       "        vertical-align: middle;\n",
       "    }\n",
       "\n",
       "    .dataframe tbody tr th {\n",
       "        vertical-align: top;\n",
       "    }\n",
       "\n",
       "    .dataframe thead th {\n",
       "        text-align: right;\n",
       "    }\n",
       "</style>\n",
       "<table border=\"1\" class=\"dataframe\">\n",
       "  <thead>\n",
       "    <tr style=\"text-align: right;\">\n",
       "      <th></th>\n",
       "      <th>co2</th>\n",
       "      <th>no_of_rainy_days</th>\n",
       "      <th>GMSL(Global Mean Sea Level)</th>\n",
       "      <th>relative_humidity</th>\n",
       "      <th>total_rainfall</th>\n",
       "      <th>surface_temp</th>\n",
       "      <th>Anomalies_Land_Ocean_Temperature</th>\n",
       "    </tr>\n",
       "  </thead>\n",
       "  <tbody>\n",
       "    <tr>\n",
       "      <th>co2</th>\n",
       "      <td>1.000000</td>\n",
       "      <td>0.168895</td>\n",
       "      <td>0.959437</td>\n",
       "      <td>0.063673</td>\n",
       "      <td>0.095167</td>\n",
       "      <td>0.220361</td>\n",
       "      <td>0.759529</td>\n",
       "    </tr>\n",
       "    <tr>\n",
       "      <th>no_of_rainy_days</th>\n",
       "      <td>0.168895</td>\n",
       "      <td>1.000000</td>\n",
       "      <td>0.147728</td>\n",
       "      <td>0.744496</td>\n",
       "      <td>0.710709</td>\n",
       "      <td>-0.406689</td>\n",
       "      <td>0.021972</td>\n",
       "    </tr>\n",
       "    <tr>\n",
       "      <th>GMSL(Global Mean Sea Level)</th>\n",
       "      <td>0.959437</td>\n",
       "      <td>0.147728</td>\n",
       "      <td>1.000000</td>\n",
       "      <td>0.003408</td>\n",
       "      <td>0.054906</td>\n",
       "      <td>0.236321</td>\n",
       "      <td>0.715655</td>\n",
       "    </tr>\n",
       "    <tr>\n",
       "      <th>relative_humidity</th>\n",
       "      <td>0.063673</td>\n",
       "      <td>0.744496</td>\n",
       "      <td>0.003408</td>\n",
       "      <td>1.000000</td>\n",
       "      <td>0.689661</td>\n",
       "      <td>-0.644677</td>\n",
       "      <td>-0.036892</td>\n",
       "    </tr>\n",
       "    <tr>\n",
       "      <th>total_rainfall</th>\n",
       "      <td>0.095167</td>\n",
       "      <td>0.710709</td>\n",
       "      <td>0.054906</td>\n",
       "      <td>0.689661</td>\n",
       "      <td>1.000000</td>\n",
       "      <td>-0.519534</td>\n",
       "      <td>0.050089</td>\n",
       "    </tr>\n",
       "    <tr>\n",
       "      <th>surface_temp</th>\n",
       "      <td>0.220361</td>\n",
       "      <td>-0.406689</td>\n",
       "      <td>0.236321</td>\n",
       "      <td>-0.644677</td>\n",
       "      <td>-0.519534</td>\n",
       "      <td>1.000000</td>\n",
       "      <td>0.284805</td>\n",
       "    </tr>\n",
       "    <tr>\n",
       "      <th>Anomalies_Land_Ocean_Temperature</th>\n",
       "      <td>0.759529</td>\n",
       "      <td>0.021972</td>\n",
       "      <td>0.715655</td>\n",
       "      <td>-0.036892</td>\n",
       "      <td>0.050089</td>\n",
       "      <td>0.284805</td>\n",
       "      <td>1.000000</td>\n",
       "    </tr>\n",
       "  </tbody>\n",
       "</table>\n",
       "</div>"
      ],
      "text/plain": [
       "                                       co2  no_of_rainy_days  \\\n",
       "co2                               1.000000          0.168895   \n",
       "no_of_rainy_days                  0.168895          1.000000   \n",
       "GMSL(Global Mean Sea Level)       0.959437          0.147728   \n",
       "relative_humidity                 0.063673          0.744496   \n",
       "total_rainfall                    0.095167          0.710709   \n",
       "surface_temp                      0.220361         -0.406689   \n",
       "Anomalies_Land_Ocean_Temperature  0.759529          0.021972   \n",
       "\n",
       "                                  GMSL(Global Mean Sea Level)  \\\n",
       "co2                                                  0.959437   \n",
       "no_of_rainy_days                                     0.147728   \n",
       "GMSL(Global Mean Sea Level)                          1.000000   \n",
       "relative_humidity                                    0.003408   \n",
       "total_rainfall                                       0.054906   \n",
       "surface_temp                                         0.236321   \n",
       "Anomalies_Land_Ocean_Temperature                     0.715655   \n",
       "\n",
       "                                  relative_humidity  total_rainfall  \\\n",
       "co2                                        0.063673        0.095167   \n",
       "no_of_rainy_days                           0.744496        0.710709   \n",
       "GMSL(Global Mean Sea Level)                0.003408        0.054906   \n",
       "relative_humidity                          1.000000        0.689661   \n",
       "total_rainfall                             0.689661        1.000000   \n",
       "surface_temp                              -0.644677       -0.519534   \n",
       "Anomalies_Land_Ocean_Temperature          -0.036892        0.050089   \n",
       "\n",
       "                                  surface_temp  \\\n",
       "co2                                   0.220361   \n",
       "no_of_rainy_days                     -0.406689   \n",
       "GMSL(Global Mean Sea Level)           0.236321   \n",
       "relative_humidity                    -0.644677   \n",
       "total_rainfall                       -0.519534   \n",
       "surface_temp                          1.000000   \n",
       "Anomalies_Land_Ocean_Temperature      0.284805   \n",
       "\n",
       "                                  Anomalies_Land_Ocean_Temperature  \n",
       "co2                                                       0.759529  \n",
       "no_of_rainy_days                                          0.021972  \n",
       "GMSL(Global Mean Sea Level)                               0.715655  \n",
       "relative_humidity                                        -0.036892  \n",
       "total_rainfall                                            0.050089  \n",
       "surface_temp                                              0.284805  \n",
       "Anomalies_Land_Ocean_Temperature                          1.000000  "
      ]
     },
     "execution_count": 86,
     "metadata": {},
     "output_type": "execute_result"
    }
   ],
   "source": [
    "climate_change.corr()"
   ]
  },
  {
   "cell_type": "code",
   "execution_count": 88,
   "metadata": {},
   "outputs": [],
   "source": [
    "def correlation(data : pd.core.frame.DataFrame):\n",
    "    corr_matrix = data.corr()\n",
    "    mask = np.zeros_like(corr_matrix) #to plot only a half matrix\n",
    "    mask[np.triu_indices_from(mask)] = True #to generate a mask for the upper triangle\n",
    "    sns.heatmap(corr_matrix, mask=mask, square=True,cmap=\"PuOr_r\")\n",
    "    return"
   ]
  },
  {
   "cell_type": "code",
   "execution_count": 89,
   "metadata": {},
   "outputs": [
    {
     "data": {
      "image/png": "[encoded data removed]",
      "text/plain": [
       "<Figure size 432x288 with 2 Axes>"
      ]
     },
     "metadata": {
      "needs_background": "light"
     },
     "output_type": "display_data"
    }
   ],
   "source": [
    "correlation(climate_change)"
   ]
  },
  {
   "cell_type": "code",
   "execution_count": null,
   "metadata": {},
   "outputs": [],
   "source": [
    "values = ['co2','no_of_rainy_days','GMSL(Global Mean Sea Level)','relative_humidity','total_rainfall',\n",
    "            'surface_temp','Anomalies_Land_Ocean_Temperature']"
   ]
  },
  {
   "cell_type": "code",
   "execution_count": null,
   "metadata": {},
   "outputs": [],
   "source": []
  },
  {
   "cell_type": "code",
   "execution_count": null,
   "metadata": {},
   "outputs": [],
   "source": []
  },
  {
   "cell_type": "markdown",
   "metadata": {},
   "source": [
    "Autocorrelation"
   ]
  },
  {
   "cell_type": "code",
   "execution_count": 90,
   "metadata": {},
   "outputs": [
    {
     "data": {
      "image/png": "[encoded data removed]",
      "text/plain": [
       "<Figure size 432x288 with 1 Axes>"
      ]
     },
     "metadata": {
      "needs_background": "light"
     },
     "output_type": "display_data"
    }
   ],
   "source": [
    "pd.plotting.autocorrelation_plot(climate_change['co2'])\n",
    "plt.show()"
   ]
  },
  {
   "cell_type": "code",
   "execution_count": 99,
   "metadata": {},
   "outputs": [
    {
     "data": {
      "image/png": "[encoded data removed]",
      "text/plain": [
       "<Figure size 432x288 with 1 Axes>"
      ]
     },
     "metadata": {
      "needs_background": "light"
     },
     "output_type": "display_data"
    }
   ],
   "source": [
    "plot_acf(climate_change['co2'], lags=350)\n",
    "plt.show()"
   ]
  },
  {
   "cell_type": "code",
   "execution_count": 91,
   "metadata": {},
   "outputs": [
    {
     "data": {
      "image/png": "[encoded data removed]",
      "text/plain": [
       "<Figure size 432x288 with 1 Axes>"
      ]
     },
     "metadata": {
      "needs_background": "light"
     },
     "output_type": "display_data"
    }
   ],
   "source": [
    "pd.plotting.lag_plot(climate_change['co2'])\n",
    "plt.show()"
   ]
  },
  {
   "cell_type": "markdown",
   "metadata": {},
   "source": [
    "Partial autocorrelation"
   ]
  },
  {
   "cell_type": "code",
   "execution_count": 98,
   "metadata": {},
   "outputs": [
    {
     "data": {
      "image/png": "[encoded data removed]",
      "text/plain": [
       "<Figure size 432x288 with 1 Axes>"
      ]
     },
     "metadata": {
      "needs_background": "light"
     },
     "output_type": "display_data"
    },
    {
     "data": {
      "image/png": "[encoded data removed]",
      "text/plain": [
       "<Figure size 432x288 with 1 Axes>"
      ]
     },
     "metadata": {
      "needs_background": "light"
     },
     "output_type": "display_data"
    }
   ],
   "source": [
    "plot_pacf(climate_change['co2'], lags=190)\n",
    "plt.show()"
   ]
  },
  {
   "cell_type": "code",
   "execution_count": null,
   "metadata": {},
   "outputs": [],
   "source": []
  }
 ],
 "metadata": {
  "interpreter": {
   "hash": "92fb4c2409ed31477d92edbb6efc8924d502a27dd5c8e25f2c5eb7d2566c1048"
  },
  "kernelspec": {
   "display_name": "Python 3.9.5 32-bit",
   "language": "python",
   "name": "python3"
  },
  "language_info": {
   "codemirror_mode": {
    "name": "ipython",
    "version": 3
   },
   "file_extension": ".py",
   "mimetype": "text/x-python",
   "name": "python",
   "nbconvert_exporter": "python",
   "pygments_lexer": "ipython3",
   "version": "3.8.5"
  },
  "orig_nbformat": 4
 },
 "nbformat": 4,
 "nbformat_minor": 2
}

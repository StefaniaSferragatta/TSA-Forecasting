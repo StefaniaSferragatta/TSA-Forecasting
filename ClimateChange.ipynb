{
 "cells": [
  {
   "cell_type": "code",
   "execution_count": 34,
   "metadata": {},
   "outputs": [],
   "source": [
    "# utilities\n",
    "import pandas as pd \n",
    "import numpy as np\n",
    "import datetime\n",
    "from datetime import datetime as dt\n",
    "from pandas import DataFrame\n",
    "import warnings\n",
    "warnings.filterwarnings('ignore')\n",
    "\n",
    "# plots\n",
    "import matplotlib.pyplot as plt\n",
    "from matplotlib.pyplot import cm\n",
    "import seaborn as sns\n",
    "\n",
    "# autocorrelation\n",
    "from statsmodels.graphics.tsaplots import plot_acf, plot_pacf\n",
    "\n",
    "#model\n",
    "from statsmodels.tsa.stattools import grangercausalitytests #for causality check\n",
    "from statsmodels.tsa.stattools import adfuller #for stationarity check\n",
    "from statsmodels.tsa.seasonal import seasonal_decompose #for the decomposition\n",
    "import statsmodels.api as sm\n",
    "from statsmodels.tsa.arima.model import ARIMA\n",
    "from statsmodels.tsa.vector_ar.var_model import VAR"
   ]
  },
  {
   "cell_type": "markdown",
   "metadata": {},
   "source": [
    "Importing datasets"
   ]
  },
  {
   "cell_type": "code",
   "execution_count": 4,
   "metadata": {},
   "outputs": [],
   "source": [
    "co2 = pd.read_csv('co2.csv')\n",
    "\n",
    "no_raindays = pd.read_csv('rainfall-monthly-number-of-rain-days.csv')\n",
    "no_raindays.rename(columns={'month':'Date'},inplace=True)\n",
    "\n",
    "sea_level = pd.read_csv('sea_level.csv')\n",
    "sea_level.rename(columns = {'Time':'Date'},inplace=True)\n",
    "\n",
    "humidity = pd.read_csv('relative-humidity-monthly-mean.csv')\n",
    "humidity.rename(columns = {'month':'Date'},inplace=True)\n",
    "\n",
    "rainfall = pd.read_csv('rainfall-monthly-total.csv')\n",
    "rainfall.rename(columns = {'month':'Date'},inplace=True)\n",
    "\n",
    "temperature = pd.read_csv('surface-air-temperature-monthly-mean.csv')\n",
    "temperature.rename(columns = {'month':'Date'},inplace=True)\n",
    "\n",
    "anomaly_temperature = pd.read_csv('anomalies_temperature.csv')"
   ]
  },
  {
   "cell_type": "markdown",
   "metadata": {},
   "source": [
    "Append new data to: co2, sea_level,anomaly_temperature in order to have data until the 2021.\n",
    "\n",
    "First thing is to create a new list of dates then create the values of the measurement according to the values in the dataframe."
   ]
  },
  {
   "cell_type": "markdown",
   "metadata": {},
   "source": [
    "Change datatype of the column with the date into the datetime format 'YYYY-mm'"
   ]
  },
  {
   "cell_type": "code",
   "execution_count": 5,
   "metadata": {},
   "outputs": [],
   "source": [
    "co2['Date'] = pd.to_datetime(co2['Date'], format = '%Y-%m')\n",
    "co2['Date'] = co2['Date'].dt.strftime('%Y-%m')\n",
    "\n",
    "sea_level['Date'] = pd.to_datetime(sea_level['Date'], format = '%Y-%m')\n",
    "sea_level['Date'] = sea_level['Date'].dt.strftime('%Y-%m')\n",
    "\n",
    "humidity['Date'] = pd.to_datetime(humidity['Date'], format = '%Y-%m')\n",
    "humidity['Date'] = humidity['Date'].dt.strftime('%Y-%m')\n",
    "\n",
    "rainfall['Date'] = pd.to_datetime(humidity['Date'], format = '%Y-%m')\n",
    "rainfall['Date'] = rainfall['Date'].dt.strftime('%Y-%m')\n",
    "\n",
    "temperature['Date'] = pd.to_datetime(temperature['Date'], format = '%Y-%m')\n",
    "temperature['Date'] = temperature['Date'].dt.strftime('%Y-%m')\n",
    "\n",
    "anomaly_temperature['Date'] = pd.to_datetime(anomaly_temperature['Date'], format = '%Y-%m')\n",
    "anomaly_temperature['Date'] = anomaly_temperature['Date'].dt.strftime('%Y-%m')"
   ]
  },
  {
   "cell_type": "markdown",
   "metadata": {},
   "source": [
    "Now that the dataframes are modified and the cols have the same name and format, i can merge them on the Date and build a unique dataframe."
   ]
  },
  {
   "cell_type": "code",
   "execution_count": 6,
   "metadata": {},
   "outputs": [
    {
     "data": {
      "text/html": [
       "<div>\n",
       "<style scoped>\n",
       "    .dataframe tbody tr th:only-of-type {\n",
       "        vertical-align: middle;\n",
       "    }\n",
       "\n",
       "    .dataframe tbody tr th {\n",
       "        vertical-align: top;\n",
       "    }\n",
       "\n",
       "    .dataframe thead th {\n",
       "        text-align: right;\n",
       "    }\n",
       "</style>\n",
       "<table border=\"1\" class=\"dataframe\">\n",
       "  <thead>\n",
       "    <tr style=\"text-align: right;\">\n",
       "      <th></th>\n",
       "      <th>Date</th>\n",
       "      <th>no_of_rainy_days</th>\n",
       "      <th>total_rainfall</th>\n",
       "      <th>relative_humidity</th>\n",
       "      <th>surface_temp</th>\n",
       "      <th>co2</th>\n",
       "      <th>GMSL(Global Mean Sea Level)</th>\n",
       "      <th>Anomalies_Land_Ocean_Temperature</th>\n",
       "    </tr>\n",
       "  </thead>\n",
       "  <tbody>\n",
       "    <tr>\n",
       "      <th>473</th>\n",
       "      <td>2021-06</td>\n",
       "      <td>20</td>\n",
       "      <td>93.4</td>\n",
       "      <td>77.8</td>\n",
       "      <td>28.5</td>\n",
       "      <td>427.2</td>\n",
       "      <td>13.5</td>\n",
       "      <td>2.59</td>\n",
       "    </tr>\n",
       "    <tr>\n",
       "      <th>474</th>\n",
       "      <td>2021-07</td>\n",
       "      <td>12</td>\n",
       "      <td>195.8</td>\n",
       "      <td>76.5</td>\n",
       "      <td>28.6</td>\n",
       "      <td>428.0</td>\n",
       "      <td>13.5</td>\n",
       "      <td>2.62</td>\n",
       "    </tr>\n",
       "    <tr>\n",
       "      <th>475</th>\n",
       "      <td>2021-08</td>\n",
       "      <td>24</td>\n",
       "      <td>293.6</td>\n",
       "      <td>80.4</td>\n",
       "      <td>27.6</td>\n",
       "      <td>428.8</td>\n",
       "      <td>13.6</td>\n",
       "      <td>2.65</td>\n",
       "    </tr>\n",
       "    <tr>\n",
       "      <th>476</th>\n",
       "      <td>2021-09</td>\n",
       "      <td>14</td>\n",
       "      <td>205.4</td>\n",
       "      <td>77.3</td>\n",
       "      <td>28.3</td>\n",
       "      <td>429.6</td>\n",
       "      <td>13.6</td>\n",
       "      <td>2.68</td>\n",
       "    </tr>\n",
       "    <tr>\n",
       "      <th>477</th>\n",
       "      <td>2021-10</td>\n",
       "      <td>14</td>\n",
       "      <td>177.0</td>\n",
       "      <td>78.3</td>\n",
       "      <td>28.5</td>\n",
       "      <td>430.4</td>\n",
       "      <td>13.7</td>\n",
       "      <td>2.71</td>\n",
       "    </tr>\n",
       "  </tbody>\n",
       "</table>\n",
       "</div>"
      ],
      "text/plain": [
       "        Date  no_of_rainy_days  total_rainfall  relative_humidity  \\\n",
       "473  2021-06                20            93.4               77.8   \n",
       "474  2021-07                12           195.8               76.5   \n",
       "475  2021-08                24           293.6               80.4   \n",
       "476  2021-09                14           205.4               77.3   \n",
       "477  2021-10                14           177.0               78.3   \n",
       "\n",
       "     surface_temp    co2  GMSL(Global Mean Sea Level)  \\\n",
       "473          28.5  427.2                         13.5   \n",
       "474          28.6  428.0                         13.5   \n",
       "475          27.6  428.8                         13.6   \n",
       "476          28.3  429.6                         13.6   \n",
       "477          28.5  430.4                         13.7   \n",
       "\n",
       "     Anomalies_Land_Ocean_Temperature  \n",
       "473                              2.59  \n",
       "474                              2.62  \n",
       "475                              2.65  \n",
       "476                              2.68  \n",
       "477                              2.71  "
      ]
     },
     "execution_count": 6,
     "metadata": {},
     "output_type": "execute_result"
    }
   ],
   "source": [
    "climate_change = no_raindays.merge(rainfall,on='Date').merge(humidity,on='Date').merge(temperature,on='Date').merge(co2,on='Date').merge(sea_level,on='Date').merge(anomaly_temperature,on='Date')\n",
    "climate_change.tail()"
   ]
  },
  {
   "cell_type": "code",
   "execution_count": 7,
   "metadata": {},
   "outputs": [],
   "source": [
    "# change the column values from percentage to decimal \n",
    "climate_change['relative_humidity'] = climate_change['relative_humidity'].apply(lambda x: x / 100)\n",
    "#save the dataframe to csv\n",
    "climate_change.to_csv('climate_change.csv',index=False)"
   ]
  },
  {
   "cell_type": "code",
   "execution_count": 27,
   "metadata": {},
   "outputs": [],
   "source": [
    "climate_change = pd.read_csv('climate_change.csv')"
   ]
  },
  {
   "cell_type": "code",
   "execution_count": 25,
   "metadata": {},
   "outputs": [
    {
     "data": {
      "text/plain": [
       "Date                                0\n",
       "no_of_rainy_days                    0\n",
       "total_rainfall                      0\n",
       "relative_humidity                   0\n",
       "surface_temp                        0\n",
       "co2                                 0\n",
       "GMSL(Global Mean Sea Level)         0\n",
       "Anomalies_Land_Ocean_Temperature    0\n",
       "dtype: int64"
      ]
     },
     "execution_count": 25,
     "metadata": {},
     "output_type": "execute_result"
    }
   ],
   "source": [
    "#check there are no missing values\n",
    "climate_change.isna().sum()"
   ]
  },
  {
   "cell_type": "markdown",
   "metadata": {},
   "source": [
    "### EDA & DATA VISUALIZATION"
   ]
  },
  {
   "cell_type": "code",
   "execution_count": 9,
   "metadata": {},
   "outputs": [],
   "source": [
    "def correlation(data : pd.core.frame.DataFrame):\n",
    "    corr_matrix = data.corr()\n",
    "    mask = np.zeros_like(corr_matrix) #to plot only a half matrix\n",
    "    mask[np.triu_indices_from(mask)] = True #to generate a mask for the upper triangle\n",
    "    sns.heatmap(corr_matrix, mask=mask, square=True,cmap=\"PuOr_r\")\n",
    "    return"
   ]
  },
  {
   "cell_type": "code",
   "execution_count": 10,
   "metadata": {},
   "outputs": [
    {
     "data": {
      "image/png": "[encoded data removed]",
      "text/plain": [
       "<Figure size 432x288 with 2 Axes>"
      ]
     },
     "metadata": {
      "needs_background": "light"
     },
     "output_type": "display_data"
    }
   ],
   "source": [
    "correlation(climate_change)"
   ]
  },
  {
   "cell_type": "markdown",
   "metadata": {},
   "source": [
    "Autocorrelation"
   ]
  },
  {
   "cell_type": "code",
   "execution_count": 11,
   "metadata": {},
   "outputs": [
    {
     "data": {
      "image/png": "[encoded data removed]",
      "text/plain": [
       "<Figure size 432x288 with 1 Axes>"
      ]
     },
     "metadata": {
      "needs_background": "light"
     },
     "output_type": "display_data"
    }
   ],
   "source": [
    "pd.plotting.autocorrelation_plot(climate_change['co2'])\n",
    "plt.show()\n",
    "# from this plot we can see that there is a positive correlation with the first 100-to-180 lags that is perhaps \n",
    "# significant for the the first 150 lags.\n",
    "\n",
    "# Hence a good starting point for the AR parametere for co2 could be 100."
   ]
  },
  {
   "cell_type": "code",
   "execution_count": 12,
   "metadata": {},
   "outputs": [
    {
     "data": {
      "image/png": "[encoded data removed]",
      "text/plain": [
       "<Figure size 432x288 with 1 Axes>"
      ]
     },
     "metadata": {
      "needs_background": "light"
     },
     "output_type": "display_data"
    }
   ],
   "source": [
    "plot_acf(climate_change['co2'], lags=350)\n",
    "plt.show()"
   ]
  },
  {
   "cell_type": "code",
   "execution_count": 13,
   "metadata": {},
   "outputs": [
    {
     "data": {
      "image/png": "[encoded data removed]",
      "text/plain": [
       "<Figure size 432x288 with 1 Axes>"
      ]
     },
     "metadata": {
      "needs_background": "light"
     },
     "output_type": "display_data"
    }
   ],
   "source": [
    "pd.plotting.lag_plot(climate_change['co2'])\n",
    "plt.show()"
   ]
  },
  {
   "cell_type": "markdown",
   "metadata": {},
   "source": [
    "Partial autocorrelation"
   ]
  },
  {
   "cell_type": "code",
   "execution_count": 14,
   "metadata": {},
   "outputs": [
    {
     "data": {
      "image/png": "[encoded data removed]",
      "text/plain": [
       "<Figure size 432x288 with 1 Axes>"
      ]
     },
     "metadata": {
      "needs_background": "light"
     },
     "output_type": "display_data"
    }
   ],
   "source": [
    "plot_pacf(climate_change['co2'], lags=190)\n",
    "plt.show()"
   ]
  },
  {
   "cell_type": "code",
   "execution_count": null,
   "metadata": {},
   "outputs": [],
   "source": []
  },
  {
   "cell_type": "markdown",
   "metadata": {},
   "source": [
    "Time series decomposition - do it for all the variables - "
   ]
  },
  {
   "cell_type": "code",
   "execution_count": null,
   "metadata": {},
   "outputs": [],
   "source": [
    "# # Multiplicative Decomposition \n",
    "# climate_change['co2'].index = pd.to_datetime(climate_change['co2'].index) \n",
    "# decomp_mul = seasonal_decompose(climate_change['co2'], model='multiplicative', extrapolate_trend='freq', period=12)\n",
    "# decomp_mul.plot()\n",
    "# plt.show()\n",
    "\n",
    "# # Additive Decomposition\n",
    "# decomp_add = seasonal_decompose(climate_change['co2'], model='additive', extrapolate_trend='freq', period=12)\n",
    "# decomp_add.plot()\n",
    "# plt.show()"
   ]
  },
  {
   "cell_type": "markdown",
   "metadata": {},
   "source": [
    "## VARIMA (Vector Arima for multivariate time series forecasting)"
   ]
  },
  {
   "cell_type": "markdown",
   "metadata": {},
   "source": [
    "Steps:\n",
    "\n",
    " 1) Causality investigation\n",
    " 2) Test for stationary\n",
    " 3) Model \n",
    " 4) Prediction\n",
    " 4) Evaluation\n"
   ]
  },
  {
   "cell_type": "code",
   "execution_count": 33,
   "metadata": {},
   "outputs": [
    {
     "data": {
      "text/html": [
       "<div>\n",
       "<style scoped>\n",
       "    .dataframe tbody tr th:only-of-type {\n",
       "        vertical-align: middle;\n",
       "    }\n",
       "\n",
       "    .dataframe tbody tr th {\n",
       "        vertical-align: top;\n",
       "    }\n",
       "\n",
       "    .dataframe thead th {\n",
       "        text-align: right;\n",
       "    }\n",
       "</style>\n",
       "<table border=\"1\" class=\"dataframe\">\n",
       "  <thead>\n",
       "    <tr style=\"text-align: right;\">\n",
       "      <th></th>\n",
       "      <th>no_of_rainy_days_x</th>\n",
       "      <th>total_rainfall_x</th>\n",
       "      <th>relative_humidity_x</th>\n",
       "      <th>surface_temp_x</th>\n",
       "      <th>co2_x</th>\n",
       "      <th>GMSL(Global Mean Sea Level)_x</th>\n",
       "      <th>Anomalies_Land_Ocean_Temperature_x</th>\n",
       "    </tr>\n",
       "  </thead>\n",
       "  <tbody>\n",
       "    <tr>\n",
       "      <th>no_of_rainy_days_y</th>\n",
       "      <td>1.0000</td>\n",
       "      <td>0.0024</td>\n",
       "      <td>0.0000</td>\n",
       "      <td>0.0000</td>\n",
       "      <td>0.0000</td>\n",
       "      <td>0.0317</td>\n",
       "      <td>0.0053</td>\n",
       "    </tr>\n",
       "    <tr>\n",
       "      <th>total_rainfall_y</th>\n",
       "      <td>0.0000</td>\n",
       "      <td>1.0000</td>\n",
       "      <td>0.0000</td>\n",
       "      <td>0.0000</td>\n",
       "      <td>0.0000</td>\n",
       "      <td>0.1896</td>\n",
       "      <td>0.1522</td>\n",
       "    </tr>\n",
       "    <tr>\n",
       "      <th>relative_humidity_y</th>\n",
       "      <td>0.0000</td>\n",
       "      <td>0.0000</td>\n",
       "      <td>1.0000</td>\n",
       "      <td>0.0000</td>\n",
       "      <td>0.0000</td>\n",
       "      <td>0.3026</td>\n",
       "      <td>0.0000</td>\n",
       "    </tr>\n",
       "    <tr>\n",
       "      <th>surface_temp_y</th>\n",
       "      <td>0.0000</td>\n",
       "      <td>0.0000</td>\n",
       "      <td>0.0000</td>\n",
       "      <td>1.0000</td>\n",
       "      <td>0.0000</td>\n",
       "      <td>0.3210</td>\n",
       "      <td>0.0000</td>\n",
       "    </tr>\n",
       "    <tr>\n",
       "      <th>co2_y</th>\n",
       "      <td>0.0000</td>\n",
       "      <td>0.0000</td>\n",
       "      <td>0.0000</td>\n",
       "      <td>0.0000</td>\n",
       "      <td>1.0000</td>\n",
       "      <td>0.0544</td>\n",
       "      <td>0.0000</td>\n",
       "    </tr>\n",
       "    <tr>\n",
       "      <th>GMSL(Global Mean Sea Level)_y</th>\n",
       "      <td>0.0227</td>\n",
       "      <td>0.0179</td>\n",
       "      <td>0.0031</td>\n",
       "      <td>0.0750</td>\n",
       "      <td>0.3634</td>\n",
       "      <td>1.0000</td>\n",
       "      <td>0.0566</td>\n",
       "    </tr>\n",
       "    <tr>\n",
       "      <th>Anomalies_Land_Ocean_Temperature_y</th>\n",
       "      <td>0.0057</td>\n",
       "      <td>0.0106</td>\n",
       "      <td>0.0007</td>\n",
       "      <td>0.0001</td>\n",
       "      <td>0.0007</td>\n",
       "      <td>0.0166</td>\n",
       "      <td>1.0000</td>\n",
       "    </tr>\n",
       "  </tbody>\n",
       "</table>\n",
       "</div>"
      ],
      "text/plain": [
       "                                    no_of_rainy_days_x  total_rainfall_x  \\\n",
       "no_of_rainy_days_y                              1.0000            0.0024   \n",
       "total_rainfall_y                                0.0000            1.0000   \n",
       "relative_humidity_y                             0.0000            0.0000   \n",
       "surface_temp_y                                  0.0000            0.0000   \n",
       "co2_y                                           0.0000            0.0000   \n",
       "GMSL(Global Mean Sea Level)_y                   0.0227            0.0179   \n",
       "Anomalies_Land_Ocean_Temperature_y              0.0057            0.0106   \n",
       "\n",
       "                                    relative_humidity_x  surface_temp_x  \\\n",
       "no_of_rainy_days_y                               0.0000          0.0000   \n",
       "total_rainfall_y                                 0.0000          0.0000   \n",
       "relative_humidity_y                              1.0000          0.0000   \n",
       "surface_temp_y                                   0.0000          1.0000   \n",
       "co2_y                                            0.0000          0.0000   \n",
       "GMSL(Global Mean Sea Level)_y                    0.0031          0.0750   \n",
       "Anomalies_Land_Ocean_Temperature_y               0.0007          0.0001   \n",
       "\n",
       "                                     co2_x  GMSL(Global Mean Sea Level)_x  \\\n",
       "no_of_rainy_days_y                  0.0000                         0.0317   \n",
       "total_rainfall_y                    0.0000                         0.1896   \n",
       "relative_humidity_y                 0.0000                         0.3026   \n",
       "surface_temp_y                      0.0000                         0.3210   \n",
       "co2_y                               1.0000                         0.0544   \n",
       "GMSL(Global Mean Sea Level)_y       0.3634                         1.0000   \n",
       "Anomalies_Land_Ocean_Temperature_y  0.0007                         0.0166   \n",
       "\n",
       "                                    Anomalies_Land_Ocean_Temperature_x  \n",
       "no_of_rainy_days_y                                              0.0053  \n",
       "total_rainfall_y                                                0.1522  \n",
       "relative_humidity_y                                             0.0000  \n",
       "surface_temp_y                                                  0.0000  \n",
       "co2_y                                                           0.0000  \n",
       "GMSL(Global Mean Sea Level)_y                                   0.0566  \n",
       "Anomalies_Land_Ocean_Temperature_y                              1.0000  "
      ]
     },
     "execution_count": 33,
     "metadata": {},
     "output_type": "execute_result"
    }
   ],
   "source": [
    "''' 1. CAUSALITY INVESTIGATION \n",
    "The Granger Causality Test is used to investigate causality of data: check if a particular variable comes before \n",
    "another in the time series.\n",
    "The Null Hypothesis of the Granger Causality Test is that lagged x-values do not explain the variation in y\n",
    "(so the x does not cause y).\n",
    "The critical value used is 5% and if the p-value of a pair of variables is smaller than the significance level, \n",
    "then the Null Hypothesis (that the coefficients of the corresponding past values is zero, that is, the X does not \n",
    "cause Y) can be rejected.\n",
    "In the output the rows are the response variable and the columns are the predictors\n",
    "'''\n",
    "maxlag=15\n",
    "test = 'ssr_chi2test'\n",
    "def grangers_causation_matrix(data, variables, test='ssr_chi2test', verbose=False):    \n",
    "    df = pd.DataFrame(np.zeros((len(variables), len(variables))), columns=variables, index=variables) #create the df for the results\n",
    "    for c in df.columns:\n",
    "        for r in df.index:\n",
    "            test_result = grangercausalitytests(data[[r, c]], maxlag=maxlag, verbose=False) #perform the test\n",
    "            p_values = [round(test_result[i+1][0][test][1],4) for i in range(maxlag)]\n",
    "            if verbose: print(f'Y = {r}, X = {c}, P Values = {p_values}')\n",
    "            min_p_value = np.min(p_values)\n",
    "            df.loc[r, c] = min_p_value\n",
    "    df.columns = [var + '_x' for var in variables]\n",
    "    df.index = [var + '_y' for var in variables]\n",
    "    return df\n",
    "\n",
    "#climate_change.set_index('Date',inplace=True)\n",
    "climate_change = pd.read_csv('climate_change.csv', index_col='Date')\n",
    "grangers_causation_matrix(climate_change, variables = climate_change.columns)   "
   ]
  },
  {
   "cell_type": "markdown",
   "metadata": {},
   "source": [
    "Let's analyze the result obtained. For most of the variables, since the p-values are < 0.05, i can reject the null hypothesis and use them for the VARIMA model. \n",
    "\n",
    "But for some variables i can't reject the null hypothesis, in fact the p-values for:\n",
    "- (GMSL_x,total_rainfall_y) - (GMSL_x,relative_humidity_y) - (GMSL_x,surface_temp_y) \n",
    "\n",
    "- (Anomalies_Land_Ocean_Temperature_x,total_rainfall_y)\n",
    "\n",
    "- (co2_x,GMSL(Global Mean Sea Level)_y)\n",
    "\n",
    "are bigger than 0.05. That means that the **GMSL doesn't cause the total rainfall, the relative humidity and the surface temperature**, as well as the **Anomalies_Land_Ocean_Temperature doesn't cause the total rainfall** and the **co2 doesn't cause the mean sea level**. \n",
    "\n",
    "*As it can be notice, this analysis makes sense since - for example - it's reasonable that the total rainfall causes the surface temperature, the humidity and the anomalies in the temperature; just as it would have made less sense if the co2 emissions causes the Sea Level - but for sure it causes the surface temperature.*\n",
    "\n",
    "In the end I can state that, exept for the GMSL and the others two pairs listed before, the other variables are interchangeably causing each other. \n",
    "\n",
    "For now on i will not include the GMSL in the model."
   ]
  },
  {
   "cell_type": "code",
   "execution_count": 98,
   "metadata": {},
   "outputs": [],
   "source": [
    "#CLIMATE DATA WITHOUT GMSL\n",
    "data_cc = climate_change.drop(['GMSL(Global Mean Sea Level)'],axis=1)"
   ]
  },
  {
   "cell_type": "code",
   "execution_count": 78,
   "metadata": {},
   "outputs": [
    {
     "name": "stdout",
     "output_type": "stream",
     "text": [
      " no_of_rainy_days : P-Value = 0.0 => Stationary\n",
      " total_rainfall : P-Value = 0.0 => Stationary\n",
      " relative_humidity : P-Value = 0.233 => Non-stationary\n",
      " surface_temp : P-Value = 0.0 => Stationary\n",
      " co2 : P-Value = 0.999 => Non-stationary\n",
      " Anomalies_Land_Ocean_Temperature : P-Value = 0.999 => Non-stationary\n"
     ]
    }
   ],
   "source": [
    "''' 2. STATIONARITY TEST\n",
    "VectorARMA requires time series to be stationary(mean and variance does not change over time), to test it\n",
    "i use the ADF Test.\n",
    "'''\n",
    "\n",
    "def adfuller_test(series, sig=0.05, name=''):\n",
    "    res = adfuller(series, autolag='AIC')    \n",
    "    p_value = round(res[1], 3) \n",
    "\n",
    "    if p_value <= sig:\n",
    "        print(f\" {name} : P-Value = {p_value} => Stationary\")\n",
    "    else:\n",
    "        print(f\" {name} : P-Value = {p_value} => Non-stationary\")\n",
    "\n",
    "for name, column in data_cc.iteritems():\n",
    "    adfuller_test(column, name=column.name)\n"
   ]
  },
  {
   "cell_type": "code",
   "execution_count": 175,
   "metadata": {},
   "outputs": [
    {
     "name": "stdout",
     "output_type": "stream",
     "text": [
      " no_of_rainy_days : P-Value = 0.0 => Stationary\n",
      " total_rainfall : P-Value = 0.0 => Stationary\n",
      " relative_humidity : P-Value = 0.0 => Stationary\n",
      " surface_temp : P-Value = 0.0 => Stationary\n",
      " co2 : P-Value = 0.001 => Stationary\n",
      " Anomalies_Land_Ocean_Temperature : P-Value = 0.0 => Stationary\n"
     ]
    }
   ],
   "source": [
    "# Train-test splitting\n",
    "n_obs = 12 #forecast on the next 12 observation (12 months = one year)\n",
    "train,test =  data_cc[0:-n_obs], data_cc[-n_obs:]\n",
    "\n",
    "'''\n",
    "Since for the relative_humidity,co2 and Anomalies_Land_Ocean_Temperature the test fails, \n",
    "i need to make the data stationary (eliminating the trend and seasonality by differencing.\n",
    "Differencing reduces the length of the series by 1 and since all the time series has to be of the same length, \n",
    "i apply the diff() method to all the series.\n",
    "'''\n",
    "data_differenced = train.diff().dropna() #diffence the train data\n",
    "for name, column in data_differenced.iteritems():\n",
    "    adfuller_test(column, name=column.name)\n"
   ]
  },
  {
   "cell_type": "code",
   "execution_count": 176,
   "metadata": {},
   "outputs": [
    {
     "data": {
      "text/html": [
       "<div>\n",
       "<style scoped>\n",
       "    .dataframe tbody tr th:only-of-type {\n",
       "        vertical-align: middle;\n",
       "    }\n",
       "\n",
       "    .dataframe tbody tr th {\n",
       "        vertical-align: top;\n",
       "    }\n",
       "\n",
       "    .dataframe thead th {\n",
       "        text-align: right;\n",
       "    }\n",
       "</style>\n",
       "<table border=\"1\" class=\"dataframe\">\n",
       "  <thead>\n",
       "    <tr style=\"text-align: right;\">\n",
       "      <th></th>\n",
       "      <th>no_of_rainy_days</th>\n",
       "      <th>total_rainfall</th>\n",
       "      <th>relative_humidity</th>\n",
       "      <th>surface_temp</th>\n",
       "      <th>co2</th>\n",
       "      <th>Anomalies_Land_Ocean_Temperature</th>\n",
       "    </tr>\n",
       "  </thead>\n",
       "  <tbody>\n",
       "    <tr>\n",
       "      <th>count</th>\n",
       "      <td>465.000000</td>\n",
       "      <td>465.000000</td>\n",
       "      <td>465.000000</td>\n",
       "      <td>465.000000</td>\n",
       "      <td>465.000000</td>\n",
       "      <td>465.000000</td>\n",
       "    </tr>\n",
       "    <tr>\n",
       "      <th>mean</th>\n",
       "      <td>0.012903</td>\n",
       "      <td>-0.060860</td>\n",
       "      <td>-0.000125</td>\n",
       "      <td>0.005161</td>\n",
       "      <td>0.171032</td>\n",
       "      <td>0.004860</td>\n",
       "    </tr>\n",
       "    <tr>\n",
       "      <th>std</th>\n",
       "      <td>5.873656</td>\n",
       "      <td>143.191929</td>\n",
       "      <td>0.029113</td>\n",
       "      <td>0.600552</td>\n",
       "      <td>0.953497</td>\n",
       "      <td>0.118981</td>\n",
       "    </tr>\n",
       "    <tr>\n",
       "      <th>min</th>\n",
       "      <td>-20.000000</td>\n",
       "      <td>-569.000000</td>\n",
       "      <td>-0.094000</td>\n",
       "      <td>-1.700000</td>\n",
       "      <td>-6.390000</td>\n",
       "      <td>-0.330000</td>\n",
       "    </tr>\n",
       "    <tr>\n",
       "      <th>25%</th>\n",
       "      <td>-4.000000</td>\n",
       "      <td>-76.800000</td>\n",
       "      <td>-0.018000</td>\n",
       "      <td>-0.400000</td>\n",
       "      <td>-0.150000</td>\n",
       "      <td>-0.070000</td>\n",
       "    </tr>\n",
       "    <tr>\n",
       "      <th>50%</th>\n",
       "      <td>0.000000</td>\n",
       "      <td>5.200000</td>\n",
       "      <td>0.000000</td>\n",
       "      <td>0.000000</td>\n",
       "      <td>0.400000</td>\n",
       "      <td>0.020000</td>\n",
       "    </tr>\n",
       "    <tr>\n",
       "      <th>75%</th>\n",
       "      <td>4.000000</td>\n",
       "      <td>79.200000</td>\n",
       "      <td>0.018000</td>\n",
       "      <td>0.400000</td>\n",
       "      <td>0.800000</td>\n",
       "      <td>0.080000</td>\n",
       "    </tr>\n",
       "    <tr>\n",
       "      <th>max</th>\n",
       "      <td>18.000000</td>\n",
       "      <td>580.300000</td>\n",
       "      <td>0.120000</td>\n",
       "      <td>1.900000</td>\n",
       "      <td>1.670000</td>\n",
       "      <td>0.370000</td>\n",
       "    </tr>\n",
       "  </tbody>\n",
       "</table>\n",
       "</div>"
      ],
      "text/plain": [
       "       no_of_rainy_days  total_rainfall  relative_humidity  surface_temp  \\\n",
       "count        465.000000      465.000000         465.000000    465.000000   \n",
       "mean           0.012903       -0.060860          -0.000125      0.005161   \n",
       "std            5.873656      143.191929           0.029113      0.600552   \n",
       "min          -20.000000     -569.000000          -0.094000     -1.700000   \n",
       "25%           -4.000000      -76.800000          -0.018000     -0.400000   \n",
       "50%            0.000000        5.200000           0.000000      0.000000   \n",
       "75%            4.000000       79.200000           0.018000      0.400000   \n",
       "max           18.000000      580.300000           0.120000      1.900000   \n",
       "\n",
       "              co2  Anomalies_Land_Ocean_Temperature  \n",
       "count  465.000000                        465.000000  \n",
       "mean     0.171032                          0.004860  \n",
       "std      0.953497                          0.118981  \n",
       "min     -6.390000                         -0.330000  \n",
       "25%     -0.150000                         -0.070000  \n",
       "50%      0.400000                          0.020000  \n",
       "75%      0.800000                          0.080000  \n",
       "max      1.670000                          0.370000  "
      ]
     },
     "execution_count": 176,
     "metadata": {},
     "output_type": "execute_result"
    }
   ],
   "source": [
    "data_differenced.describe()"
   ]
  },
  {
   "cell_type": "code",
   "execution_count": 177,
   "metadata": {},
   "outputs": [
    {
     "data": {
      "text/html": [
       "<table class=\"simpletable\">\n",
       "<caption>VAR Order Selection (* highlights the minimums)</caption>\n",
       "<tr>\n",
       "   <td></td>      <th>AIC</th>         <th>BIC</th>         <th>FPE</th>        <th>HQIC</th>    \n",
       "</tr>\n",
       "<tr>\n",
       "  <th>0</th>  <td>    -1.106</td>  <td>    -1.051</td>  <td>    0.3308</td>  <td>    -1.085</td> \n",
       "</tr>\n",
       "<tr>\n",
       "  <th>1</th>  <td>    -2.559</td>  <td>    -2.175</td>  <td>   0.07735</td>  <td>    -2.408</td> \n",
       "</tr>\n",
       "<tr>\n",
       "  <th>2</th>  <td>    -3.215</td>  <td>    -2.501</td>  <td>   0.04016</td>  <td>    -2.934</td> \n",
       "</tr>\n",
       "<tr>\n",
       "  <th>3</th>  <td>    -4.018</td>  <td>    -2.976</td>  <td>   0.01799</td>  <td>    -3.607</td> \n",
       "</tr>\n",
       "<tr>\n",
       "  <th>4</th>  <td>    -4.379</td>  <td>    -3.007*</td> <td>   0.01254</td>  <td>    -3.838</td> \n",
       "</tr>\n",
       "<tr>\n",
       "  <th>5</th>  <td>    -4.546</td>  <td>    -2.845</td>  <td>   0.01062</td>  <td>    -3.876*</td>\n",
       "</tr>\n",
       "<tr>\n",
       "  <th>6</th>  <td>    -4.669</td>  <td>    -2.638</td>  <td>  0.009406</td>  <td>    -3.868</td> \n",
       "</tr>\n",
       "<tr>\n",
       "  <th>7</th>  <td>    -4.737</td>  <td>    -2.377</td>  <td>  0.008796</td>  <td>    -3.807</td> \n",
       "</tr>\n",
       "<tr>\n",
       "  <th>8</th>  <td>    -4.773</td>  <td>    -2.083</td>  <td>  0.008502</td>  <td>    -3.713</td> \n",
       "</tr>\n",
       "<tr>\n",
       "  <th>9</th>  <td>    -4.844</td>  <td>    -1.826</td>  <td>  0.007932</td>  <td>    -3.655</td> \n",
       "</tr>\n",
       "<tr>\n",
       "  <th>10</th> <td>    -4.785</td>  <td>    -1.437</td>  <td>  0.008438</td>  <td>    -3.465</td> \n",
       "</tr>\n",
       "<tr>\n",
       "  <th>11</th> <td>    -4.842</td>  <td>    -1.165</td>  <td>  0.007999</td>  <td>    -3.392</td> \n",
       "</tr>\n",
       "<tr>\n",
       "  <th>12</th> <td>    -4.841</td>  <td>   -0.8349</td>  <td>  0.008036</td>  <td>    -3.262</td> \n",
       "</tr>\n",
       "<tr>\n",
       "  <th>13</th> <td>    -4.861*</td> <td>   -0.5248</td>  <td>  0.007920*</td> <td>    -3.152</td> \n",
       "</tr>\n",
       "<tr>\n",
       "  <th>14</th> <td>    -4.820</td>  <td>   -0.1548</td>  <td>  0.008295</td>  <td>    -2.981</td> \n",
       "</tr>\n",
       "<tr>\n",
       "  <th>15</th> <td>    -4.770</td>  <td>    0.2240</td>  <td>  0.008772</td>  <td>    -2.802</td> \n",
       "</tr>\n",
       "<tr>\n",
       "  <th>16</th> <td>    -4.766</td>  <td>    0.5581</td>  <td>  0.008879</td>  <td>    -2.667</td> \n",
       "</tr>\n",
       "</table>"
      ],
      "text/plain": [
       "<class 'statsmodels.iolib.table.SimpleTable'>"
      ]
     },
     "execution_count": 177,
     "metadata": {},
     "output_type": "execute_result"
    }
   ],
   "source": [
    "# To find the optimal values of p I will perform the model.select_order() method that highlight\n",
    "# with a * the lowest AIC value.\n",
    "model = VAR(data_differenced)\n",
    "x = model.select_order(maxlags=16)\n",
    "x.summary()"
   ]
  },
  {
   "cell_type": "markdown",
   "metadata": {},
   "source": [
    "As the value of the P increases model becomes more complex and the AIC penalizes the complex model.\n",
    "\n",
    "As can be seen from the result, the AIC begins to drop as i fit the more complex model (around 11) but, after a certain amount of time AIC begins to increase again (from 13). It’s because AIC is punishing these models for being too complex.\n",
    "\n",
    "The VAR(p=12) returns the lowest score and after that again AIC starts increasing, hence i will build the VAR model of order 12. "
   ]
  },
  {
   "cell_type": "code",
   "execution_count": null,
   "metadata": {},
   "outputs": [],
   "source": [
    "# train the VAR model of selected order (p=12)\n",
    "p=12\n",
    "model_fitted = model.fit(p) \n",
    "model_fitted.summary()"
   ]
  },
  {
   "cell_type": "markdown",
   "metadata": {},
   "source": [
    "Durbin-Watson Statistic \n",
    "\n",
    "Test to check the autocorrelation. The result of this test will be a value in range [0.0,4.0]. A value of 2.0 means that there is no auto-correlation detected in the sample. Values from 0 to less than 2 indicate positive auto-correlation and values from 2 to 4 indicate negative auto-correlation. A rule of thumb is that test statistic values in the range of 1.5 to 2.5 are relatively normal. Any value outside this range could be a cause for concern."
   ]
  },
  {
   "cell_type": "code",
   "execution_count": 179,
   "metadata": {},
   "outputs": [
    {
     "name": "stdout",
     "output_type": "stream",
     "text": [
      "no_of_rainy_days : 1.97\n",
      "total_rainfall : 1.97\n",
      "relative_humidity : 1.97\n",
      "surface_temp : 1.98\n",
      "co2 : 2.04\n",
      "Anomalies_Land_Ocean_Temperature : 1.94\n"
     ]
    }
   ],
   "source": [
    "from statsmodels.stats.stattools import durbin_watson\n",
    "\n",
    "out = durbin_watson(model_fitted.resid)\n",
    "for col,val in zip (data_differenced.columns,out):\n",
    "    print((col),':',round(val,2))"
   ]
  },
  {
   "cell_type": "markdown",
   "metadata": {},
   "source": [
    "From the results obtained I can state that there is no autocorrelation, since all values are in the range [1.5,2] hence i can procede with the forecasting"
   ]
  },
  {
   "cell_type": "markdown",
   "metadata": {},
   "source": [
    "PREDICTION\n",
    "\n",
    "In order to forecast, the VAR model expects up to the lag order number of observations from the past data since the terms in the VAR model are essentially the lags of the various time series in the dataset."
   ]
  },
  {
   "cell_type": "code",
   "execution_count": 213,
   "metadata": {},
   "outputs": [
    {
     "data": {
      "text/html": [
       "<div>\n",
       "<style scoped>\n",
       "    .dataframe tbody tr th:only-of-type {\n",
       "        vertical-align: middle;\n",
       "    }\n",
       "\n",
       "    .dataframe tbody tr th {\n",
       "        vertical-align: top;\n",
       "    }\n",
       "\n",
       "    .dataframe thead th {\n",
       "        text-align: right;\n",
       "    }\n",
       "</style>\n",
       "<table border=\"1\" class=\"dataframe\">\n",
       "  <thead>\n",
       "    <tr style=\"text-align: right;\">\n",
       "      <th></th>\n",
       "      <th>no_of_rainy_days_pred</th>\n",
       "      <th>total_rainfall_pred</th>\n",
       "      <th>relative_humidity_pred</th>\n",
       "      <th>surface_temp_pred</th>\n",
       "      <th>co2_pred</th>\n",
       "      <th>Anomalies_Land_Ocean_Temperature_pred</th>\n",
       "    </tr>\n",
       "    <tr>\n",
       "      <th>Date</th>\n",
       "      <th></th>\n",
       "      <th></th>\n",
       "      <th></th>\n",
       "      <th></th>\n",
       "      <th></th>\n",
       "      <th></th>\n",
       "    </tr>\n",
       "  </thead>\n",
       "  <tbody>\n",
       "    <tr>\n",
       "      <th>2020-11</th>\n",
       "      <td>2.988035</td>\n",
       "      <td>135.392134</td>\n",
       "      <td>0.032497</td>\n",
       "      <td>-0.481104</td>\n",
       "      <td>0.842476</td>\n",
       "      <td>0.019958</td>\n",
       "    </tr>\n",
       "    <tr>\n",
       "      <th>2020-12</th>\n",
       "      <td>-0.641425</td>\n",
       "      <td>64.911254</td>\n",
       "      <td>0.011693</td>\n",
       "      <td>-0.392197</td>\n",
       "      <td>0.626267</td>\n",
       "      <td>-0.057816</td>\n",
       "    </tr>\n",
       "    <tr>\n",
       "      <th>2021-01</th>\n",
       "      <td>-1.153047</td>\n",
       "      <td>-58.665482</td>\n",
       "      <td>-0.009799</td>\n",
       "      <td>-0.037645</td>\n",
       "      <td>0.252269</td>\n",
       "      <td>0.098899</td>\n",
       "    </tr>\n",
       "    <tr>\n",
       "      <th>2021-02</th>\n",
       "      <td>-1.269499</td>\n",
       "      <td>-19.006710</td>\n",
       "      <td>-0.006718</td>\n",
       "      <td>0.071336</td>\n",
       "      <td>0.095361</td>\n",
       "      <td>-0.031953</td>\n",
       "    </tr>\n",
       "    <tr>\n",
       "      <th>2021-03</th>\n",
       "      <td>1.473870</td>\n",
       "      <td>40.209120</td>\n",
       "      <td>-0.005897</td>\n",
       "      <td>0.221731</td>\n",
       "      <td>0.333099</td>\n",
       "      <td>0.042238</td>\n",
       "    </tr>\n",
       "    <tr>\n",
       "      <th>2021-04</th>\n",
       "      <td>0.128105</td>\n",
       "      <td>-52.153070</td>\n",
       "      <td>-0.001418</td>\n",
       "      <td>0.216724</td>\n",
       "      <td>0.514408</td>\n",
       "      <td>-0.016811</td>\n",
       "    </tr>\n",
       "    <tr>\n",
       "      <th>2021-05</th>\n",
       "      <td>-0.261148</td>\n",
       "      <td>-25.317664</td>\n",
       "      <td>0.001230</td>\n",
       "      <td>0.022891</td>\n",
       "      <td>0.629350</td>\n",
       "      <td>0.011990</td>\n",
       "    </tr>\n",
       "    <tr>\n",
       "      <th>2021-06</th>\n",
       "      <td>1.100786</td>\n",
       "      <td>39.705717</td>\n",
       "      <td>0.002178</td>\n",
       "      <td>-0.057278</td>\n",
       "      <td>0.222612</td>\n",
       "      <td>-0.014978</td>\n",
       "    </tr>\n",
       "    <tr>\n",
       "      <th>2021-07</th>\n",
       "      <td>1.185520</td>\n",
       "      <td>36.292625</td>\n",
       "      <td>0.005832</td>\n",
       "      <td>-0.355554</td>\n",
       "      <td>0.199802</td>\n",
       "      <td>0.003154</td>\n",
       "    </tr>\n",
       "    <tr>\n",
       "      <th>2021-08</th>\n",
       "      <td>0.332871</td>\n",
       "      <td>-8.733390</td>\n",
       "      <td>0.004070</td>\n",
       "      <td>-0.087407</td>\n",
       "      <td>0.351678</td>\n",
       "      <td>0.005398</td>\n",
       "    </tr>\n",
       "    <tr>\n",
       "      <th>2021-09</th>\n",
       "      <td>-0.713064</td>\n",
       "      <td>-18.035079</td>\n",
       "      <td>0.000649</td>\n",
       "      <td>-0.068701</td>\n",
       "      <td>0.420827</td>\n",
       "      <td>0.025964</td>\n",
       "    </tr>\n",
       "    <tr>\n",
       "      <th>2021-10</th>\n",
       "      <td>0.829133</td>\n",
       "      <td>23.251311</td>\n",
       "      <td>0.000952</td>\n",
       "      <td>0.066955</td>\n",
       "      <td>0.660028</td>\n",
       "      <td>-0.005079</td>\n",
       "    </tr>\n",
       "  </tbody>\n",
       "</table>\n",
       "</div>"
      ],
      "text/plain": [
       "         no_of_rainy_days_pred  total_rainfall_pred  relative_humidity_pred  \\\n",
       "Date                                                                          \n",
       "2020-11               2.988035           135.392134                0.032497   \n",
       "2020-12              -0.641425            64.911254                0.011693   \n",
       "2021-01              -1.153047           -58.665482               -0.009799   \n",
       "2021-02              -1.269499           -19.006710               -0.006718   \n",
       "2021-03               1.473870            40.209120               -0.005897   \n",
       "2021-04               0.128105           -52.153070               -0.001418   \n",
       "2021-05              -0.261148           -25.317664                0.001230   \n",
       "2021-06               1.100786            39.705717                0.002178   \n",
       "2021-07               1.185520            36.292625                0.005832   \n",
       "2021-08               0.332871            -8.733390                0.004070   \n",
       "2021-09              -0.713064           -18.035079                0.000649   \n",
       "2021-10               0.829133            23.251311                0.000952   \n",
       "\n",
       "         surface_temp_pred  co2_pred  Anomalies_Land_Ocean_Temperature_pred  \n",
       "Date                                                                         \n",
       "2020-11          -0.481104  0.842476                               0.019958  \n",
       "2020-12          -0.392197  0.626267                              -0.057816  \n",
       "2021-01          -0.037645  0.252269                               0.098899  \n",
       "2021-02           0.071336  0.095361                              -0.031953  \n",
       "2021-03           0.221731  0.333099                               0.042238  \n",
       "2021-04           0.216724  0.514408                              -0.016811  \n",
       "2021-05           0.022891  0.629350                               0.011990  \n",
       "2021-06          -0.057278  0.222612                              -0.014978  \n",
       "2021-07          -0.355554  0.199802                               0.003154  \n",
       "2021-08          -0.087407  0.351678                               0.005398  \n",
       "2021-09          -0.068701  0.420827                               0.025964  \n",
       "2021-10           0.066955  0.660028                              -0.005079  "
      ]
     },
     "execution_count": 213,
     "metadata": {},
     "output_type": "execute_result"
    }
   ],
   "source": [
    "lag = model_fitted.k_ar #12\n",
    "\n",
    "# input data for forecasting\n",
    "lagged_Values = data_differenced.values[-lag:] # specify the 'initial value' for the forecast\n",
    "\n",
    "# Forecast\n",
    "pred = model_fitted.forecast(y= lagged_Values,steps= n_obs) #pred = model_fitted.forecast(y=data_differenced.values, steps=n_obs) \n",
    "df_pred = (pd.DataFrame(pred, index=test.index, columns=test.columns + '_pred'))\n",
    "#df_pred = pd.DataFrame(pred, columns=data_differenced.columns + '_pred')\n",
    "df_pred"
   ]
  },
  {
   "cell_type": "markdown",
   "metadata": {},
   "source": [
    "INVERT THE TRANSFORMATION\n",
    "\n",
    "Notice that the forecasted value is a first-order difference. To get it similar to original data i have to 'roll back' each difference by taking the most recent values of the original series’ training data and adding it to a cumulative sum of forecasted values (first determine the cumulative sum at index and then add it to the base number)\n"
   ]
  },
  {
   "cell_type": "code",
   "execution_count": 223,
   "metadata": {},
   "outputs": [],
   "source": [
    "def invert_transformation(train, pred):\n",
    "    forecast = pred.copy()\n",
    "    columns = train.columns\n",
    "    for col in columns[1:]:\n",
    "        forecast[str(col)+'_pred'] = train[col].iloc[-1] + forecast[str(col)+'_pred'].cumsum()\n",
    "    return forecast\n",
    "\n",
    "result = invert_transformation(train, df_pred)"
   ]
  },
  {
   "cell_type": "code",
   "execution_count": 224,
   "metadata": {},
   "outputs": [
    {
     "data": {
      "text/html": [
       "<div>\n",
       "<style scoped>\n",
       "    .dataframe tbody tr th:only-of-type {\n",
       "        vertical-align: middle;\n",
       "    }\n",
       "\n",
       "    .dataframe tbody tr th {\n",
       "        vertical-align: top;\n",
       "    }\n",
       "\n",
       "    .dataframe thead th {\n",
       "        text-align: right;\n",
       "    }\n",
       "</style>\n",
       "<table border=\"1\" class=\"dataframe\">\n",
       "  <thead>\n",
       "    <tr style=\"text-align: right;\">\n",
       "      <th></th>\n",
       "      <th>no_of_rainy_days_pred</th>\n",
       "      <th>total_rainfall_pred</th>\n",
       "      <th>relative_humidity_pred</th>\n",
       "      <th>surface_temp_pred</th>\n",
       "      <th>co2_pred</th>\n",
       "      <th>Anomalies_Land_Ocean_Temperature_pred</th>\n",
       "    </tr>\n",
       "    <tr>\n",
       "      <th>Date</th>\n",
       "      <th></th>\n",
       "      <th></th>\n",
       "      <th></th>\n",
       "      <th></th>\n",
       "      <th></th>\n",
       "      <th></th>\n",
       "    </tr>\n",
       "  </thead>\n",
       "  <tbody>\n",
       "    <tr>\n",
       "      <th>2020-11</th>\n",
       "      <td>18.988035</td>\n",
       "      <td>214.192134</td>\n",
       "      <td>0.786497</td>\n",
       "      <td>27.818896</td>\n",
       "      <td>421.642476</td>\n",
       "      <td>2.369958</td>\n",
       "    </tr>\n",
       "    <tr>\n",
       "      <th>2020-12</th>\n",
       "      <td>18.346610</td>\n",
       "      <td>279.103389</td>\n",
       "      <td>0.798190</td>\n",
       "      <td>27.426698</td>\n",
       "      <td>422.268744</td>\n",
       "      <td>2.312142</td>\n",
       "    </tr>\n",
       "    <tr>\n",
       "      <th>2021-01</th>\n",
       "      <td>17.193564</td>\n",
       "      <td>220.437906</td>\n",
       "      <td>0.788392</td>\n",
       "      <td>27.389054</td>\n",
       "      <td>422.521012</td>\n",
       "      <td>2.411041</td>\n",
       "    </tr>\n",
       "    <tr>\n",
       "      <th>2021-02</th>\n",
       "      <td>15.924065</td>\n",
       "      <td>201.431196</td>\n",
       "      <td>0.781674</td>\n",
       "      <td>27.460389</td>\n",
       "      <td>422.616373</td>\n",
       "      <td>2.379088</td>\n",
       "    </tr>\n",
       "    <tr>\n",
       "      <th>2021-03</th>\n",
       "      <td>17.397935</td>\n",
       "      <td>241.640317</td>\n",
       "      <td>0.775777</td>\n",
       "      <td>27.682120</td>\n",
       "      <td>422.949472</td>\n",
       "      <td>2.421326</td>\n",
       "    </tr>\n",
       "    <tr>\n",
       "      <th>2021-04</th>\n",
       "      <td>17.526040</td>\n",
       "      <td>189.487247</td>\n",
       "      <td>0.774359</td>\n",
       "      <td>27.898844</td>\n",
       "      <td>423.463879</td>\n",
       "      <td>2.404515</td>\n",
       "    </tr>\n",
       "    <tr>\n",
       "      <th>2021-05</th>\n",
       "      <td>17.264892</td>\n",
       "      <td>164.169583</td>\n",
       "      <td>0.775589</td>\n",
       "      <td>27.921735</td>\n",
       "      <td>424.093230</td>\n",
       "      <td>2.416505</td>\n",
       "    </tr>\n",
       "    <tr>\n",
       "      <th>2021-06</th>\n",
       "      <td>18.365678</td>\n",
       "      <td>203.875299</td>\n",
       "      <td>0.777767</td>\n",
       "      <td>27.864457</td>\n",
       "      <td>424.315842</td>\n",
       "      <td>2.401527</td>\n",
       "    </tr>\n",
       "    <tr>\n",
       "      <th>2021-07</th>\n",
       "      <td>19.551197</td>\n",
       "      <td>240.167925</td>\n",
       "      <td>0.783600</td>\n",
       "      <td>27.508904</td>\n",
       "      <td>424.515644</td>\n",
       "      <td>2.404681</td>\n",
       "    </tr>\n",
       "    <tr>\n",
       "      <th>2021-08</th>\n",
       "      <td>19.884068</td>\n",
       "      <td>231.434535</td>\n",
       "      <td>0.787670</td>\n",
       "      <td>27.421497</td>\n",
       "      <td>424.867322</td>\n",
       "      <td>2.410079</td>\n",
       "    </tr>\n",
       "    <tr>\n",
       "      <th>2021-09</th>\n",
       "      <td>19.171005</td>\n",
       "      <td>213.399456</td>\n",
       "      <td>0.788319</td>\n",
       "      <td>27.352796</td>\n",
       "      <td>425.288149</td>\n",
       "      <td>2.436043</td>\n",
       "    </tr>\n",
       "    <tr>\n",
       "      <th>2021-10</th>\n",
       "      <td>20.000137</td>\n",
       "      <td>236.650767</td>\n",
       "      <td>0.789271</td>\n",
       "      <td>27.419751</td>\n",
       "      <td>425.948178</td>\n",
       "      <td>2.430964</td>\n",
       "    </tr>\n",
       "  </tbody>\n",
       "</table>\n",
       "</div>"
      ],
      "text/plain": [
       "         no_of_rainy_days_pred  total_rainfall_pred  relative_humidity_pred  \\\n",
       "Date                                                                          \n",
       "2020-11              18.988035           214.192134                0.786497   \n",
       "2020-12              18.346610           279.103389                0.798190   \n",
       "2021-01              17.193564           220.437906                0.788392   \n",
       "2021-02              15.924065           201.431196                0.781674   \n",
       "2021-03              17.397935           241.640317                0.775777   \n",
       "2021-04              17.526040           189.487247                0.774359   \n",
       "2021-05              17.264892           164.169583                0.775589   \n",
       "2021-06              18.365678           203.875299                0.777767   \n",
       "2021-07              19.551197           240.167925                0.783600   \n",
       "2021-08              19.884068           231.434535                0.787670   \n",
       "2021-09              19.171005           213.399456                0.788319   \n",
       "2021-10              20.000137           236.650767                0.789271   \n",
       "\n",
       "         surface_temp_pred    co2_pred  Anomalies_Land_Ocean_Temperature_pred  \n",
       "Date                                                                           \n",
       "2020-11          27.818896  421.642476                               2.369958  \n",
       "2020-12          27.426698  422.268744                               2.312142  \n",
       "2021-01          27.389054  422.521012                               2.411041  \n",
       "2021-02          27.460389  422.616373                               2.379088  \n",
       "2021-03          27.682120  422.949472                               2.421326  \n",
       "2021-04          27.898844  423.463879                               2.404515  \n",
       "2021-05          27.921735  424.093230                               2.416505  \n",
       "2021-06          27.864457  424.315842                               2.401527  \n",
       "2021-07          27.508904  424.515644                               2.404681  \n",
       "2021-08          27.421497  424.867322                               2.410079  \n",
       "2021-09          27.352796  425.288149                               2.436043  \n",
       "2021-10          27.419751  425.948178                               2.430964  "
      ]
     },
     "execution_count": 224,
     "metadata": {},
     "output_type": "execute_result"
    }
   ],
   "source": [
    "result"
   ]
  },
  {
   "cell_type": "markdown",
   "metadata": {},
   "source": [
    "### Plot the result"
   ]
  },
  {
   "cell_type": "code",
   "execution_count": null,
   "metadata": {},
   "outputs": [],
   "source": [
    "# #Plot\n",
    "# plt.figure(figsize=(12,5), dpi=200)\n",
    "# plt.plot(train['no_of_rainy_days'][:n_obs], label='training')\n",
    "# plt.plot(test['no_of_rainy_days'][-n_obs:], label='actual')\n",
    "# plt.plot(df_prediction['no_of_rainy_days_P'], label='forecast')\n",
    "# plt.title('Forecast vs Actuals')\n",
    "# plt.legend(loc='upper left', fontsize=8)\n",
    "# plt.show()"
   ]
  },
  {
   "cell_type": "code",
   "execution_count": 225,
   "metadata": {},
   "outputs": [
    {
     "data": {
      "image/png": "[encoded data removed]",
      "text/plain": [
       "<Figure size 864x360 with 1 Axes>"
      ]
     },
     "metadata": {
      "needs_background": "light"
     },
     "output_type": "display_data"
    }
   ],
   "source": [
    "test_or = data_cc[-n_obs:]\n",
    "test_or['no_of_rainy_days'].plot(figsize=(12,5),legend=True);\n",
    "result['no_of_rainy_days_pred'].plot(legend=True);"
   ]
  },
  {
   "cell_type": "code",
   "execution_count": 226,
   "metadata": {},
   "outputs": [
    {
     "data": {
      "image/png": "[encoded data removed]",
      "text/plain": [
       "<Figure size 864x360 with 1 Axes>"
      ]
     },
     "metadata": {
      "needs_background": "light"
     },
     "output_type": "display_data"
    }
   ],
   "source": [
    "test_or['total_rainfall'].plot(figsize=(12,5),legend=True);\n",
    "result['total_rainfall_pred'].plot(legend=True);"
   ]
  },
  {
   "cell_type": "code",
   "execution_count": 227,
   "metadata": {},
   "outputs": [
    {
     "data": {
      "image/png": "[encoded data removed]",
      "text/plain": [
       "<Figure size 864x360 with 1 Axes>"
      ]
     },
     "metadata": {
      "needs_background": "light"
     },
     "output_type": "display_data"
    }
   ],
   "source": [
    "test_or['relative_humidity'].plot(figsize=(12,5),legend=True);\n",
    "result['relative_humidity_pred'].plot(legend=True);"
   ]
  },
  {
   "cell_type": "code",
   "execution_count": 228,
   "metadata": {},
   "outputs": [
    {
     "data": {
      "image/png": "[encoded data removed]",
      "text/plain": [
       "<Figure size 864x360 with 1 Axes>"
      ]
     },
     "metadata": {
      "needs_background": "light"
     },
     "output_type": "display_data"
    }
   ],
   "source": [
    "test_or['surface_temp'].plot(figsize=(12,5),legend=True);\n",
    "result['surface_temp_pred'].plot(legend=True);"
   ]
  },
  {
   "cell_type": "markdown",
   "metadata": {},
   "source": [
    "### Evaluate the forecast"
   ]
  },
  {
   "cell_type": "code",
   "execution_count": 233,
   "metadata": {},
   "outputs": [],
   "source": [
    "#combining predicted and real data set\n",
    "combine = pd.concat([result['surface_temp_pred'], test['surface_temp']], axis=1)\n",
    "combine['accuracy'] = round(combine.apply(lambda row: row.surface_temp_pred /row.surface_temp *100, axis = 1),2)\n",
    "combine['accuracy'] = pd.Series([\"{0:.2f}%\".format(val) for val in combine['accuracy']],index = combine.index)\n",
    "combine = combine.round(decimals=2)\n",
    "combine = combine.reset_index()\n",
    "combine = combine.sort_values(by='Date', ascending=False)"
   ]
  },
  {
   "cell_type": "code",
   "execution_count": 234,
   "metadata": {},
   "outputs": [
    {
     "data": {
      "text/html": [
       "<div>\n",
       "<style scoped>\n",
       "    .dataframe tbody tr th:only-of-type {\n",
       "        vertical-align: middle;\n",
       "    }\n",
       "\n",
       "    .dataframe tbody tr th {\n",
       "        vertical-align: top;\n",
       "    }\n",
       "\n",
       "    .dataframe thead th {\n",
       "        text-align: right;\n",
       "    }\n",
       "</style>\n",
       "<table border=\"1\" class=\"dataframe\">\n",
       "  <thead>\n",
       "    <tr style=\"text-align: right;\">\n",
       "      <th></th>\n",
       "      <th>Date</th>\n",
       "      <th>surface_temp_pred</th>\n",
       "      <th>surface_temp</th>\n",
       "      <th>accuracy</th>\n",
       "    </tr>\n",
       "  </thead>\n",
       "  <tbody>\n",
       "    <tr>\n",
       "      <th>11</th>\n",
       "      <td>2021-10</td>\n",
       "      <td>27.42</td>\n",
       "      <td>28.5</td>\n",
       "      <td>96.21%</td>\n",
       "    </tr>\n",
       "    <tr>\n",
       "      <th>10</th>\n",
       "      <td>2021-09</td>\n",
       "      <td>27.35</td>\n",
       "      <td>28.3</td>\n",
       "      <td>96.65%</td>\n",
       "    </tr>\n",
       "    <tr>\n",
       "      <th>9</th>\n",
       "      <td>2021-08</td>\n",
       "      <td>27.42</td>\n",
       "      <td>27.6</td>\n",
       "      <td>99.35%</td>\n",
       "    </tr>\n",
       "    <tr>\n",
       "      <th>8</th>\n",
       "      <td>2021-07</td>\n",
       "      <td>27.51</td>\n",
       "      <td>28.6</td>\n",
       "      <td>96.18%</td>\n",
       "    </tr>\n",
       "    <tr>\n",
       "      <th>7</th>\n",
       "      <td>2021-06</td>\n",
       "      <td>27.86</td>\n",
       "      <td>28.5</td>\n",
       "      <td>97.77%</td>\n",
       "    </tr>\n",
       "    <tr>\n",
       "      <th>6</th>\n",
       "      <td>2021-05</td>\n",
       "      <td>27.92</td>\n",
       "      <td>28.7</td>\n",
       "      <td>97.29%</td>\n",
       "    </tr>\n",
       "    <tr>\n",
       "      <th>5</th>\n",
       "      <td>2021-04</td>\n",
       "      <td>27.90</td>\n",
       "      <td>28.2</td>\n",
       "      <td>98.93%</td>\n",
       "    </tr>\n",
       "    <tr>\n",
       "      <th>4</th>\n",
       "      <td>2021-03</td>\n",
       "      <td>27.68</td>\n",
       "      <td>27.9</td>\n",
       "      <td>99.22%</td>\n",
       "    </tr>\n",
       "    <tr>\n",
       "      <th>3</th>\n",
       "      <td>2021-02</td>\n",
       "      <td>27.46</td>\n",
       "      <td>27.3</td>\n",
       "      <td>100.59%</td>\n",
       "    </tr>\n",
       "    <tr>\n",
       "      <th>2</th>\n",
       "      <td>2021-01</td>\n",
       "      <td>27.39</td>\n",
       "      <td>26.0</td>\n",
       "      <td>105.34%</td>\n",
       "    </tr>\n",
       "    <tr>\n",
       "      <th>1</th>\n",
       "      <td>2020-12</td>\n",
       "      <td>27.43</td>\n",
       "      <td>27.2</td>\n",
       "      <td>100.83%</td>\n",
       "    </tr>\n",
       "    <tr>\n",
       "      <th>0</th>\n",
       "      <td>2020-11</td>\n",
       "      <td>27.82</td>\n",
       "      <td>27.2</td>\n",
       "      <td>102.28%</td>\n",
       "    </tr>\n",
       "  </tbody>\n",
       "</table>\n",
       "</div>"
      ],
      "text/plain": [
       "       Date  surface_temp_pred  surface_temp accuracy\n",
       "11  2021-10              27.42          28.5   96.21%\n",
       "10  2021-09              27.35          28.3   96.65%\n",
       "9   2021-08              27.42          27.6   99.35%\n",
       "8   2021-07              27.51          28.6   96.18%\n",
       "7   2021-06              27.86          28.5   97.77%\n",
       "6   2021-05              27.92          28.7   97.29%\n",
       "5   2021-04              27.90          28.2   98.93%\n",
       "4   2021-03              27.68          27.9   99.22%\n",
       "3   2021-02              27.46          27.3  100.59%\n",
       "2   2021-01              27.39          26.0  105.34%\n",
       "1   2020-12              27.43          27.2  100.83%\n",
       "0   2020-11              27.82          27.2  102.28%"
      ]
     },
     "execution_count": 234,
     "metadata": {},
     "output_type": "execute_result"
    }
   ],
   "source": [
    "combine"
   ]
  },
  {
   "cell_type": "code",
   "execution_count": 158,
   "metadata": {},
   "outputs": [],
   "source": [
    "from statsmodels.tsa.stattools import acf\n",
    "from sklearn import metrics\n",
    "\n",
    "def forecast_eval(forecast, actual):\n",
    "    rmse = np.mean((forecast - actual)**2)**0.5  # RMSE\n",
    "    r2 = metrics.r2_score(actual, forecast)  #R²\n",
    "\n",
    "    return({'rmse':rmse, 'R²':r2})\n",
    "\n",
    "def adjust(val, length= 6): \n",
    "    return str(val).ljust(length)"
   ]
  },
  {
   "cell_type": "code",
   "execution_count": 159,
   "metadata": {},
   "outputs": [
    {
     "name": "stdout",
     "output_type": "stream",
     "text": [
      "Forecast evaluation of: no_of_rainy_days\n"
     ]
    },
    {
     "ename": "UFuncTypeError",
     "evalue": "ufunc 'subtract' did not contain a loop with signature matching types (dtype('<U32'), dtype('<U32')) -> dtype('<U32')",
     "output_type": "error",
     "traceback": [
      "\u001b[1;31m---------------------------------------------------------------------------\u001b[0m",
      "\u001b[1;31mUFuncTypeError\u001b[0m                            Traceback (most recent call last)",
      "\u001b[1;32m<ipython-input-159-1b6fe439c5d3>\u001b[0m in \u001b[0;36m<module>\u001b[1;34m\u001b[0m\n\u001b[0;32m      1\u001b[0m \u001b[0mprint\u001b[0m\u001b[1;33m(\u001b[0m\u001b[1;34m'Forecast evaluation of: no_of_rainy_days'\u001b[0m\u001b[1;33m)\u001b[0m\u001b[1;33m\u001b[0m\u001b[1;33m\u001b[0m\u001b[0m\n\u001b[1;32m----> 2\u001b[1;33m \u001b[0maccuracy_prod\u001b[0m \u001b[1;33m=\u001b[0m \u001b[0mforecast_eval\u001b[0m\u001b[1;33m(\u001b[0m\u001b[0mdf_prediction\u001b[0m\u001b[1;33m[\u001b[0m\u001b[1;34m'no_of_rainy_days_P'\u001b[0m\u001b[1;33m]\u001b[0m\u001b[1;33m.\u001b[0m\u001b[0mvalues\u001b[0m\u001b[1;33m,\u001b[0m \u001b[1;33m[\u001b[0m\u001b[1;34m'no_of_rainy_days'\u001b[0m\u001b[1;33m]\u001b[0m\u001b[1;33m)\u001b[0m\u001b[1;33m\u001b[0m\u001b[1;33m\u001b[0m\u001b[0m\n\u001b[0m\u001b[0;32m      3\u001b[0m \u001b[1;33m\u001b[0m\u001b[0m\n\u001b[0;32m      4\u001b[0m \u001b[1;32mfor\u001b[0m \u001b[0mk\u001b[0m\u001b[1;33m,\u001b[0m \u001b[0mv\u001b[0m \u001b[1;32min\u001b[0m \u001b[0maccuracy_prod\u001b[0m\u001b[1;33m.\u001b[0m\u001b[0mitems\u001b[0m\u001b[1;33m(\u001b[0m\u001b[1;33m)\u001b[0m\u001b[1;33m:\u001b[0m\u001b[1;33m\u001b[0m\u001b[1;33m\u001b[0m\u001b[0m\n\u001b[0;32m      5\u001b[0m     \u001b[0mprint\u001b[0m\u001b[1;33m(\u001b[0m\u001b[0madjust\u001b[0m\u001b[1;33m(\u001b[0m\u001b[0mk\u001b[0m\u001b[1;33m)\u001b[0m\u001b[1;33m,\u001b[0m \u001b[1;34m': '\u001b[0m\u001b[1;33m,\u001b[0m \u001b[0mround\u001b[0m\u001b[1;33m(\u001b[0m\u001b[0mv\u001b[0m\u001b[1;33m,\u001b[0m\u001b[1;36m4\u001b[0m\u001b[1;33m)\u001b[0m\u001b[1;33m)\u001b[0m\u001b[1;33m\u001b[0m\u001b[1;33m\u001b[0m\u001b[0m\n",
      "\u001b[1;32m<ipython-input-158-6397dfc211c0>\u001b[0m in \u001b[0;36mforecast_eval\u001b[1;34m(forecast, actual)\u001b[0m\n\u001b[0;32m      3\u001b[0m \u001b[1;33m\u001b[0m\u001b[0m\n\u001b[0;32m      4\u001b[0m \u001b[1;32mdef\u001b[0m \u001b[0mforecast_eval\u001b[0m\u001b[1;33m(\u001b[0m\u001b[0mforecast\u001b[0m\u001b[1;33m,\u001b[0m \u001b[0mactual\u001b[0m\u001b[1;33m)\u001b[0m\u001b[1;33m:\u001b[0m\u001b[1;33m\u001b[0m\u001b[1;33m\u001b[0m\u001b[0m\n\u001b[1;32m----> 5\u001b[1;33m     \u001b[0mrmse\u001b[0m \u001b[1;33m=\u001b[0m \u001b[0mnp\u001b[0m\u001b[1;33m.\u001b[0m\u001b[0mmean\u001b[0m\u001b[1;33m(\u001b[0m\u001b[1;33m(\u001b[0m\u001b[0mforecast\u001b[0m \u001b[1;33m-\u001b[0m \u001b[0mactual\u001b[0m\u001b[1;33m)\u001b[0m\u001b[1;33m**\u001b[0m\u001b[1;36m2\u001b[0m\u001b[1;33m)\u001b[0m\u001b[1;33m**\u001b[0m\u001b[1;36m0.5\u001b[0m  \u001b[1;31m# RMSE\u001b[0m\u001b[1;33m\u001b[0m\u001b[1;33m\u001b[0m\u001b[0m\n\u001b[0m\u001b[0;32m      6\u001b[0m     \u001b[0mr2\u001b[0m \u001b[1;33m=\u001b[0m \u001b[0mmetrics\u001b[0m\u001b[1;33m.\u001b[0m\u001b[0mr2_score\u001b[0m\u001b[1;33m(\u001b[0m\u001b[0mactual\u001b[0m\u001b[1;33m,\u001b[0m \u001b[0mforecast\u001b[0m\u001b[1;33m)\u001b[0m  \u001b[1;31m#R²\u001b[0m\u001b[1;33m\u001b[0m\u001b[1;33m\u001b[0m\u001b[0m\n\u001b[0;32m      7\u001b[0m \u001b[1;33m\u001b[0m\u001b[0m\n",
      "\u001b[1;31mUFuncTypeError\u001b[0m: ufunc 'subtract' did not contain a loop with signature matching types (dtype('<U32'), dtype('<U32')) -> dtype('<U32')"
     ]
    }
   ],
   "source": [
    "print('Forecast evaluation of: no_of_rainy_days')\n",
    "accuracy_prod = forecast_eval(df_prediction['no_of_rainy_days_pred'].values, ['no_of_rainy_days'])\n",
    "\n",
    "for k, v in accuracy_prod.items():\n",
    "    print(adjust(k), ': ', round(v,4))\n"
   ]
  },
  {
   "cell_type": "code",
   "execution_count": null,
   "metadata": {},
   "outputs": [],
   "source": []
  },
  {
   "cell_type": "code",
   "execution_count": null,
   "metadata": {},
   "outputs": [],
   "source": []
  }
 ],
 "metadata": {
  "interpreter": {
   "hash": "92fb4c2409ed31477d92edbb6efc8924d502a27dd5c8e25f2c5eb7d2566c1048"
  },
  "kernelspec": {
   "display_name": "Python 3.9.5 32-bit",
   "language": "python",
   "name": "python3"
  },
  "language_info": {
   "codemirror_mode": {
    "name": "ipython",
    "version": 3
   },
   "file_extension": ".py",
   "mimetype": "text/x-python",
   "name": "python",
   "nbconvert_exporter": "python",
   "pygments_lexer": "ipython3",
   "version": "3.8.5"
  },
  "orig_nbformat": 4
 },
 "nbformat": 4,
 "nbformat_minor": 2
}

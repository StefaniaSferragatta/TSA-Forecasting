{
 "cells": [
  {
   "cell_type": "code",
   "execution_count": 1,
   "metadata": {},
   "outputs": [],
   "source": [
    "import pandas as pd\n",
    "import matplotlib.pyplot as plt\n",
    "import tensorflow as tf\n",
    "from tensorflow import keras"
   ]
  },
  {
   "cell_type": "code",
   "execution_count": 3,
   "metadata": {},
   "outputs": [],
   "source": [
    "df = pd.read_csv('climate_change.csv')"
   ]
  },
  {
   "cell_type": "code",
   "execution_count": 5,
   "metadata": {},
   "outputs": [],
   "source": [
    "split_fraction = 0.715\n",
    "train_split = int(split_fraction * int(df.shape[0]))\n",
    "step = 6\n",
    "\n",
    "past = 24 #past 24 months (2 years)\n",
    "future = 12 #next 12 months (1 year)\n",
    "learning_rate = 0.001\n",
    "batch_size = 256\n",
    "epochs = 10\n",
    "\n",
    "'''\n",
    "Since every feature has values with varying ranges, we do normalization to confine feature values to a range of [0, 1] \n",
    "before training a neural network. \n",
    "We do this by subtracting the mean and dividing by the standard deviation of each feature.\n",
    "'''\n",
    "def normalize(data, train_split):\n",
    "    data_mean = data[:train_split].mean(axis=0)\n",
    "    data_std = data[:train_split].std(axis=0)\n",
    "    return (data - data_mean) / data_std"
   ]
  },
  {
   "cell_type": "code",
   "execution_count": 14,
   "metadata": {},
   "outputs": [],
   "source": [
    "df.index = df['Date'] #set index\n",
    "df = df.drop('Date',axis=1) #drop the column Date after setting the Date as index\n",
    "features = normalize(df.values, train_split) #normalize data\n",
    "features = pd.DataFrame(features) #save into df\n",
    "features.head()\n",
    "\n",
    "train_data = features.loc[0 : train_split - 1] #create the test\n",
    "val_data = features.loc[train_split:]"
   ]
  },
  {
   "cell_type": "code",
   "execution_count": 19,
   "metadata": {},
   "outputs": [],
   "source": [
    "start = past + future\n",
    "end = start + train_split\n",
    "\n",
    "#The training dataset labels starts from the 36nd observation (24 + 12)\n",
    "x_train = train_data[[i for i in range(7)]].values\n",
    "y_train = features.iloc[start:end][[1]]\n",
    "\n",
    "sequence_length = int(past / step)\n",
    "\n",
    "''''\n",
    "takes in a sequence of data-points gathered at equal intervals, along with time series parameters, \n",
    "to produce batches of sub-timeseries inputs and targets sampled from the main timeseries\n",
    "'''\n",
    "\n",
    "dataset_train = keras.preprocessing.timeseries_dataset_from_array(\n",
    "    x_train,\n",
    "    y_train,\n",
    "    sequence_length=sequence_length, #length of the sequences/windows\n",
    "    sampling_rate=step,\n",
    "    batch_size=batch_size,\n",
    ")"
   ]
  },
  {
   "cell_type": "code",
   "execution_count": 20,
   "metadata": {},
   "outputs": [],
   "source": [
    "# Validation dataset \n",
    "'''\n",
    "It must not contain the last 24 rows as we won't have label data for those records, hence 24 must be subtracted \n",
    "from the end of the data.\n",
    "'''\n",
    "x_end = len(val_data) - past - future\n",
    "\n",
    "label_start = train_split + past + future\n",
    "\n",
    "x_val = val_data.iloc[:x_end][[i for i in range(7)]].values\n",
    "y_val = features.iloc[label_start:][[1]]"
   ]
  },
  {
   "cell_type": "code",
   "execution_count": 21,
   "metadata": {},
   "outputs": [
    {
     "name": "stdout",
     "output_type": "stream",
     "text": [
      "Input shape: (256, 4, 7)\n",
      "Target shape: (256, 1)\n"
     ]
    }
   ],
   "source": [
    "dataset_val = keras.preprocessing.timeseries_dataset_from_array(\n",
    "    x_val,\n",
    "    y_val,\n",
    "    sequence_length=sequence_length,\n",
    "    sampling_rate=step,\n",
    "    batch_size=batch_size,\n",
    ")\n",
    "\n",
    "for batch in dataset_train.take(1):\n",
    "    inputs, targets = batch\n",
    "\n",
    "print(\"Input shape:\", inputs.numpy().shape)\n",
    "print(\"Target shape:\", targets.numpy().shape)"
   ]
  },
  {
   "cell_type": "code",
   "execution_count": 22,
   "metadata": {},
   "outputs": [
    {
     "name": "stdout",
     "output_type": "stream",
     "text": [
      "Model: \"model\"\n",
      "_________________________________________________________________\n",
      "Layer (type)                 Output Shape              Param #   \n",
      "=================================================================\n",
      "input_1 (InputLayer)         [(None, 4, 7)]            0         \n",
      "_________________________________________________________________\n",
      "lstm (LSTM)                  (None, 32)                5120      \n",
      "_________________________________________________________________\n",
      "dense (Dense)                (None, 1)                 33        \n",
      "=================================================================\n",
      "Total params: 5,153\n",
      "Trainable params: 5,153\n",
      "Non-trainable params: 0\n",
      "_________________________________________________________________\n"
     ]
    }
   ],
   "source": [
    "# TRAINING\n",
    "inputs = keras.layers.Input(shape=(inputs.shape[1], inputs.shape[2]))\n",
    "lstm_out = keras.layers.LSTM(32)(inputs)\n",
    "outputs = keras.layers.Dense(1)(lstm_out)\n",
    "\n",
    "model = keras.Model(inputs=inputs, outputs=outputs)\n",
    "model.compile(optimizer=keras.optimizers.Adam(learning_rate=learning_rate), loss=\"mse\")\n",
    "model.summary()"
   ]
  },
  {
   "cell_type": "code",
   "execution_count": 23,
   "metadata": {},
   "outputs": [
    {
     "name": "stdout",
     "output_type": "stream",
     "text": [
      "Epoch 1/10\n",
      "2/2 [==============================] - 2s 374ms/step - loss: 0.9954 - val_loss: 0.8935\n",
      "\n",
      "Epoch 00001: val_loss improved from inf to 0.89349, saving model to model_checkpoint.h5\n",
      "Epoch 2/10\n",
      "2/2 [==============================] - 0s 64ms/step - loss: 0.9872 - val_loss: 0.8582\n",
      "\n",
      "Epoch 00002: val_loss improved from 0.89349 to 0.85818, saving model to model_checkpoint.h5\n",
      "Epoch 3/10\n",
      "2/2 [==============================] - 0s 78ms/step - loss: 0.9815 - val_loss: 0.8329\n",
      "\n",
      "Epoch 00003: val_loss improved from 0.85818 to 0.83285, saving model to model_checkpoint.h5\n",
      "Epoch 4/10\n",
      "2/2 [==============================] - 0s 64ms/step - loss: 0.9766 - val_loss: 0.8188\n",
      "\n",
      "Epoch 00004: val_loss improved from 0.83285 to 0.81880, saving model to model_checkpoint.h5\n",
      "Epoch 5/10\n",
      "2/2 [==============================] - 0s 64ms/step - loss: 0.9722 - val_loss: 0.8151\n",
      "\n",
      "Epoch 00005: val_loss improved from 0.81880 to 0.81508, saving model to model_checkpoint.h5\n",
      "Epoch 6/10\n",
      "2/2 [==============================] - 0s 72ms/step - loss: 0.9680 - val_loss: 0.8198\n",
      "\n",
      "Epoch 00006: val_loss did not improve from 0.81508\n",
      "Epoch 7/10\n",
      "2/2 [==============================] - 0s 72ms/step - loss: 0.9639 - val_loss: 0.8307\n",
      "\n",
      "Epoch 00007: val_loss did not improve from 0.81508\n",
      "Epoch 8/10\n",
      "2/2 [==============================] - 0s 80ms/step - loss: 0.9598 - val_loss: 0.8456\n",
      "\n",
      "Epoch 00008: val_loss did not improve from 0.81508\n",
      "Epoch 9/10\n",
      "2/2 [==============================] - 0s 124ms/step - loss: 0.9559 - val_loss: 0.8622\n",
      "\n",
      "Epoch 00009: val_loss did not improve from 0.81508\n",
      "Epoch 10/10\n",
      "2/2 [==============================] - 0s 88ms/step - loss: 0.9521 - val_loss: 0.8785\n",
      "\n",
      "Epoch 00010: val_loss did not improve from 0.81508\n"
     ]
    }
   ],
   "source": [
    "path_checkpoint = \"model_checkpoint.h5\"\n",
    "# callback to interrupt training when the validation loss is not longer improving\n",
    "es_callback = keras.callbacks.EarlyStopping(monitor=\"val_loss\", min_delta=0, patience=5)\n",
    "\n",
    "# callback to regularly save checkpoints\n",
    "modelckpt_callback = keras.callbacks.ModelCheckpoint(\n",
    "    monitor=\"val_loss\",\n",
    "    filepath=path_checkpoint,\n",
    "    verbose=1,\n",
    "    save_weights_only=True,\n",
    "    save_best_only=True,\n",
    ")\n",
    "\n",
    "history = model.fit(\n",
    "    dataset_train,\n",
    "    epochs=epochs,\n",
    "    validation_data=dataset_val,\n",
    "    callbacks=[es_callback, modelckpt_callback],\n",
    ")"
   ]
  },
  {
   "cell_type": "code",
   "execution_count": 24,
   "metadata": {},
   "outputs": [
    {
     "data": {
      "image/png": "[encoded data removed]",
      "text/plain": [
       "<Figure size 432x288 with 1 Axes>"
      ]
     },
     "metadata": {
      "needs_background": "light"
     },
     "output_type": "display_data"
    }
   ],
   "source": [
    "# Visualize the loss\n",
    "\n",
    "def visualize_loss(history, title):\n",
    "    loss = history.history[\"loss\"]\n",
    "    val_loss = history.history[\"val_loss\"]\n",
    "    epochs = range(len(loss))\n",
    "    plt.figure()\n",
    "    plt.plot(epochs, loss, \"b\", label=\"Training loss\")\n",
    "    plt.plot(epochs, val_loss, \"r\", label=\"Validation loss\")\n",
    "    plt.title(title)\n",
    "    plt.xlabel(\"Epochs\")\n",
    "    plt.ylabel(\"Loss\")\n",
    "    plt.legend()\n",
    "    plt.show()\n",
    "\n",
    "\n",
    "visualize_loss(history, \"Training and Validation Loss\")"
   ]
  },
  {
   "cell_type": "code",
   "execution_count": 25,
   "metadata": {},
   "outputs": [
    {
     "data": {
      "image/png": "[encoded data removed]",
      "text/plain": [
       "<Figure size 432x288 with 1 Axes>"
      ]
     },
     "metadata": {
      "needs_background": "light"
     },
     "output_type": "display_data"
    }
   ],
   "source": [
    "# PREDICTION\n",
    "\n",
    "def show_plot(plot_data, delta, title):\n",
    "    labels = [\"History\", \"True Future\", \"Model Prediction\"]\n",
    "    marker = [\".-\", \"rx\", \"go\"]\n",
    "    time_steps = list(range(-(plot_data[0].shape[0]), 0))\n",
    "    if delta:\n",
    "        future = delta\n",
    "    else:\n",
    "        future = 0\n",
    "\n",
    "    plt.title(title)\n",
    "    for i, val in enumerate(plot_data):\n",
    "        if i:\n",
    "            plt.plot(future, plot_data[i], marker[i], markersize=10, label=labels[i])\n",
    "        else:\n",
    "            plt.plot(time_steps, plot_data[i].flatten(), marker[i], label=labels[i])\n",
    "    plt.legend()\n",
    "    plt.xlim([time_steps[0], (future + 5) * 2])\n",
    "    plt.xlabel(\"Time-Step\")\n",
    "    plt.show()\n",
    "    return\n",
    "\n",
    "\n",
    "for x, y in dataset_val.take(5):\n",
    "    show_plot(\n",
    "        [x[0][:, 1].numpy(), y[0].numpy(), model.predict(x)[0]],\n",
    "        12,\n",
    "        \"Single Step Prediction\",)"
   ]
  },
  {
   "cell_type": "code",
   "execution_count": null,
   "metadata": {},
   "outputs": [],
   "source": []
  }
 ],
 "metadata": {
  "interpreter": {
   "hash": "543fac186253f9d0e7e81c5965b3cf911efa35f741fdc96a6bcdad4c4ce990e7"
  },
  "kernelspec": {
   "display_name": "Python 3.9.1 64-bit",
   "language": "python",
   "name": "python3"
  },
  "language_info": {
   "codemirror_mode": {
    "name": "ipython",
    "version": 3
   },
   "file_extension": ".py",
   "mimetype": "text/x-python",
   "name": "python",
   "nbconvert_exporter": "python",
   "pygments_lexer": "ipython3",
   "version": "3.9.1"
  },
  "orig_nbformat": 4
 },
 "nbformat": 4,
 "nbformat_minor": 2
}
